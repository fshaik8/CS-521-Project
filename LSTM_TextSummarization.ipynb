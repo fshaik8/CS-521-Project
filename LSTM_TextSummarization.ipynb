{
  "cells": [
    {
      "cell_type": "code",
      "execution_count": 1,
      "metadata": {
        "colab": {
          "base_uri": "https://localhost:8080/"
        },
        "id": "7jCBe0GpsmoS",
        "outputId": "ef44cc5d-3660-4367-8b97-39ec68d6ad92"
      },
      "outputs": [
        {
          "output_type": "stream",
          "name": "stdout",
          "text": [
            "Mounted at /content/drive\n"
          ]
        }
      ],
      "source": [
        "from google.colab import drive\n",
        "drive.mount('/content/drive')"
      ]
    },
    {
      "cell_type": "code",
      "execution_count": 25,
      "metadata": {
        "id": "hEEkd5Qos20x"
      },
      "outputs": [],
      "source": [
        "import pandas as pd\n",
        "import numpy as np\n",
        "import os\n",
        "import re\n",
        "import warnings\n",
        "warnings.filterwarnings(\"ignore\")\n",
        "from sklearn import datasets, linear_model\n",
        "from sklearn.model_selection import train_test_split\n",
        "from matplotlib import pyplot as plt\n",
        "from bs4 import BeautifulSoup\n",
        "from nltk.corpus import stopwords"
      ]
    },
    {
      "cell_type": "code",
      "execution_count": 26,
      "metadata": {
        "colab": {
          "base_uri": "https://localhost:8080/"
        },
        "id": "Yb60OegVKFvA",
        "outputId": "eb84b1d4-35f3-4896-b724-67d713938f00"
      },
      "outputs": [
        {
          "output_type": "stream",
          "name": "stderr",
          "text": [
            "[nltk_data] Downloading package stopwords to /root/nltk_data...\n",
            "[nltk_data]   Package stopwords is already up-to-date!\n"
          ]
        },
        {
          "output_type": "execute_result",
          "data": {
            "text/plain": [
              "True"
            ]
          },
          "metadata": {},
          "execution_count": 26
        }
      ],
      "source": [
        "import nltk\n",
        "nltk.download('stopwords')"
      ]
    },
    {
      "cell_type": "code",
      "execution_count": 27,
      "metadata": {
        "id": "c61IdvLUtvKh"
      },
      "outputs": [],
      "source": [
        "# read data from the csv file (from the location it is stored)\n",
        "Data = pd.read_csv('/content/drive/MyDrive/CS521_Project/cleaned_wikihowAll.csv')\n",
        "Data = Data.astype(str)\n",
        "rows, columns = Data.shape"
      ]
    },
    {
      "cell_type": "code",
      "execution_count": 28,
      "metadata": {
        "colab": {
          "base_uri": "https://localhost:8080/",
          "height": 419
        },
        "id": "JS1b4wJtw_xG",
        "outputId": "72daa5be-6262-4b41-c444-99d31a8f29aa"
      },
      "outputs": [
        {
          "output_type": "execute_result",
          "data": {
            "text/plain": [
              "                                                 headline  \\\n",
              "0       Keep related supplies in the same area., Make ...   \n",
              "1       Create a sketch in the NeoPopRealist manner of...   \n",
              "2       Get a bachelor’s degree., Enroll in a studio-b...   \n",
              "3       Start with some experience or interest in art....   \n",
              "4       Keep your reference materials, sketches, artic...   \n",
              "...                                                   ...   \n",
              "215360  Consider changing the spelling of your name., ...   \n",
              "215361  Try out your name., Don’t legally change your ...   \n",
              "215362  Understand the process of relief printing., Ex...   \n",
              "215363  Understand the process of intaglio printing., ...   \n",
              "215364  Understand the different varieties of lithogra...   \n",
              "\n",
              "                                         title  \\\n",
              "0               How to Be an Organized Artist1   \n",
              "1       How to Create a Neopoprealist Art Work   \n",
              "2           How to Be a Visual Effects Artist1   \n",
              "3                How to Become an Art Investor   \n",
              "4               How to Be an Organized Artist2   \n",
              "...                                        ...   \n",
              "215360               How to Pick a Stage Name3   \n",
              "215361               How to Pick a Stage Name4   \n",
              "215362                 How to Identify Prints1   \n",
              "215363                 How to Identify Prints2   \n",
              "215364                 How to Identify Prints3   \n",
              "\n",
              "                                                     text  \n",
              "0       If you're a photographer, keep all the necessa...  \n",
              "1       See the image for how this drawing develops st...  \n",
              "2       It is possible to become a VFX artist without ...  \n",
              "3       The best art investors do their research on th...  \n",
              "4       As you start planning for a project or work, y...  \n",
              "...                                                   ...  \n",
              "215360  If you have a name that you like, you might fi...  \n",
              "215361  Your name might sound great to you when you sa...  \n",
              "215362  Relief printing is the oldest and most traditi...  \n",
              "215363  Intaglio is Italian for \"incis­ing,\" and corre...  \n",
              "215364  Lithography is a big term often used to refer ...  \n",
              "\n",
              "[215365 rows x 3 columns]"
            ],
            "text/html": [
              "\n",
              "  <div id=\"df-805b107a-b626-49b0-831f-dfed63320b60\" class=\"colab-df-container\">\n",
              "    <div>\n",
              "<style scoped>\n",
              "    .dataframe tbody tr th:only-of-type {\n",
              "        vertical-align: middle;\n",
              "    }\n",
              "\n",
              "    .dataframe tbody tr th {\n",
              "        vertical-align: top;\n",
              "    }\n",
              "\n",
              "    .dataframe thead th {\n",
              "        text-align: right;\n",
              "    }\n",
              "</style>\n",
              "<table border=\"1\" class=\"dataframe\">\n",
              "  <thead>\n",
              "    <tr style=\"text-align: right;\">\n",
              "      <th></th>\n",
              "      <th>headline</th>\n",
              "      <th>title</th>\n",
              "      <th>text</th>\n",
              "    </tr>\n",
              "  </thead>\n",
              "  <tbody>\n",
              "    <tr>\n",
              "      <th>0</th>\n",
              "      <td>Keep related supplies in the same area., Make ...</td>\n",
              "      <td>How to Be an Organized Artist1</td>\n",
              "      <td>If you're a photographer, keep all the necessa...</td>\n",
              "    </tr>\n",
              "    <tr>\n",
              "      <th>1</th>\n",
              "      <td>Create a sketch in the NeoPopRealist manner of...</td>\n",
              "      <td>How to Create a Neopoprealist Art Work</td>\n",
              "      <td>See the image for how this drawing develops st...</td>\n",
              "    </tr>\n",
              "    <tr>\n",
              "      <th>2</th>\n",
              "      <td>Get a bachelor’s degree., Enroll in a studio-b...</td>\n",
              "      <td>How to Be a Visual Effects Artist1</td>\n",
              "      <td>It is possible to become a VFX artist without ...</td>\n",
              "    </tr>\n",
              "    <tr>\n",
              "      <th>3</th>\n",
              "      <td>Start with some experience or interest in art....</td>\n",
              "      <td>How to Become an Art Investor</td>\n",
              "      <td>The best art investors do their research on th...</td>\n",
              "    </tr>\n",
              "    <tr>\n",
              "      <th>4</th>\n",
              "      <td>Keep your reference materials, sketches, artic...</td>\n",
              "      <td>How to Be an Organized Artist2</td>\n",
              "      <td>As you start planning for a project or work, y...</td>\n",
              "    </tr>\n",
              "    <tr>\n",
              "      <th>...</th>\n",
              "      <td>...</td>\n",
              "      <td>...</td>\n",
              "      <td>...</td>\n",
              "    </tr>\n",
              "    <tr>\n",
              "      <th>215360</th>\n",
              "      <td>Consider changing the spelling of your name., ...</td>\n",
              "      <td>How to Pick a Stage Name3</td>\n",
              "      <td>If you have a name that you like, you might fi...</td>\n",
              "    </tr>\n",
              "    <tr>\n",
              "      <th>215361</th>\n",
              "      <td>Try out your name., Don’t legally change your ...</td>\n",
              "      <td>How to Pick a Stage Name4</td>\n",
              "      <td>Your name might sound great to you when you sa...</td>\n",
              "    </tr>\n",
              "    <tr>\n",
              "      <th>215362</th>\n",
              "      <td>Understand the process of relief printing., Ex...</td>\n",
              "      <td>How to Identify Prints1</td>\n",
              "      <td>Relief printing is the oldest and most traditi...</td>\n",
              "    </tr>\n",
              "    <tr>\n",
              "      <th>215363</th>\n",
              "      <td>Understand the process of intaglio printing., ...</td>\n",
              "      <td>How to Identify Prints2</td>\n",
              "      <td>Intaglio is Italian for \"incis­ing,\" and corre...</td>\n",
              "    </tr>\n",
              "    <tr>\n",
              "      <th>215364</th>\n",
              "      <td>Understand the different varieties of lithogra...</td>\n",
              "      <td>How to Identify Prints3</td>\n",
              "      <td>Lithography is a big term often used to refer ...</td>\n",
              "    </tr>\n",
              "  </tbody>\n",
              "</table>\n",
              "<p>215365 rows × 3 columns</p>\n",
              "</div>\n",
              "    <div class=\"colab-df-buttons\">\n",
              "\n",
              "  <div class=\"colab-df-container\">\n",
              "    <button class=\"colab-df-convert\" onclick=\"convertToInteractive('df-805b107a-b626-49b0-831f-dfed63320b60')\"\n",
              "            title=\"Convert this dataframe to an interactive table.\"\n",
              "            style=\"display:none;\">\n",
              "\n",
              "  <svg xmlns=\"http://www.w3.org/2000/svg\" height=\"24px\" viewBox=\"0 -960 960 960\">\n",
              "    <path d=\"M120-120v-720h720v720H120Zm60-500h600v-160H180v160Zm220 220h160v-160H400v160Zm0 220h160v-160H400v160ZM180-400h160v-160H180v160Zm440 0h160v-160H620v160ZM180-180h160v-160H180v160Zm440 0h160v-160H620v160Z\"/>\n",
              "  </svg>\n",
              "    </button>\n",
              "\n",
              "  <style>\n",
              "    .colab-df-container {\n",
              "      display:flex;\n",
              "      gap: 12px;\n",
              "    }\n",
              "\n",
              "    .colab-df-convert {\n",
              "      background-color: #E8F0FE;\n",
              "      border: none;\n",
              "      border-radius: 50%;\n",
              "      cursor: pointer;\n",
              "      display: none;\n",
              "      fill: #1967D2;\n",
              "      height: 32px;\n",
              "      padding: 0 0 0 0;\n",
              "      width: 32px;\n",
              "    }\n",
              "\n",
              "    .colab-df-convert:hover {\n",
              "      background-color: #E2EBFA;\n",
              "      box-shadow: 0px 1px 2px rgba(60, 64, 67, 0.3), 0px 1px 3px 1px rgba(60, 64, 67, 0.15);\n",
              "      fill: #174EA6;\n",
              "    }\n",
              "\n",
              "    .colab-df-buttons div {\n",
              "      margin-bottom: 4px;\n",
              "    }\n",
              "\n",
              "    [theme=dark] .colab-df-convert {\n",
              "      background-color: #3B4455;\n",
              "      fill: #D2E3FC;\n",
              "    }\n",
              "\n",
              "    [theme=dark] .colab-df-convert:hover {\n",
              "      background-color: #434B5C;\n",
              "      box-shadow: 0px 1px 3px 1px rgba(0, 0, 0, 0.15);\n",
              "      filter: drop-shadow(0px 1px 2px rgba(0, 0, 0, 0.3));\n",
              "      fill: #FFFFFF;\n",
              "    }\n",
              "  </style>\n",
              "\n",
              "    <script>\n",
              "      const buttonEl =\n",
              "        document.querySelector('#df-805b107a-b626-49b0-831f-dfed63320b60 button.colab-df-convert');\n",
              "      buttonEl.style.display =\n",
              "        google.colab.kernel.accessAllowed ? 'block' : 'none';\n",
              "\n",
              "      async function convertToInteractive(key) {\n",
              "        const element = document.querySelector('#df-805b107a-b626-49b0-831f-dfed63320b60');\n",
              "        const dataTable =\n",
              "          await google.colab.kernel.invokeFunction('convertToInteractive',\n",
              "                                                    [key], {});\n",
              "        if (!dataTable) return;\n",
              "\n",
              "        const docLinkHtml = 'Like what you see? Visit the ' +\n",
              "          '<a target=\"_blank\" href=https://colab.research.google.com/notebooks/data_table.ipynb>data table notebook</a>'\n",
              "          + ' to learn more about interactive tables.';\n",
              "        element.innerHTML = '';\n",
              "        dataTable['output_type'] = 'display_data';\n",
              "        await google.colab.output.renderOutput(dataTable, element);\n",
              "        const docLink = document.createElement('div');\n",
              "        docLink.innerHTML = docLinkHtml;\n",
              "        element.appendChild(docLink);\n",
              "      }\n",
              "    </script>\n",
              "  </div>\n",
              "\n",
              "\n",
              "<div id=\"df-acd93b8f-6bbe-436d-96f4-4ebd8db94f3b\">\n",
              "  <button class=\"colab-df-quickchart\" onclick=\"quickchart('df-acd93b8f-6bbe-436d-96f4-4ebd8db94f3b')\"\n",
              "            title=\"Suggest charts\"\n",
              "            style=\"display:none;\">\n",
              "\n",
              "<svg xmlns=\"http://www.w3.org/2000/svg\" height=\"24px\"viewBox=\"0 0 24 24\"\n",
              "     width=\"24px\">\n",
              "    <g>\n",
              "        <path d=\"M19 3H5c-1.1 0-2 .9-2 2v14c0 1.1.9 2 2 2h14c1.1 0 2-.9 2-2V5c0-1.1-.9-2-2-2zM9 17H7v-7h2v7zm4 0h-2V7h2v10zm4 0h-2v-4h2v4z\"/>\n",
              "    </g>\n",
              "</svg>\n",
              "  </button>\n",
              "\n",
              "<style>\n",
              "  .colab-df-quickchart {\n",
              "      --bg-color: #E8F0FE;\n",
              "      --fill-color: #1967D2;\n",
              "      --hover-bg-color: #E2EBFA;\n",
              "      --hover-fill-color: #174EA6;\n",
              "      --disabled-fill-color: #AAA;\n",
              "      --disabled-bg-color: #DDD;\n",
              "  }\n",
              "\n",
              "  [theme=dark] .colab-df-quickchart {\n",
              "      --bg-color: #3B4455;\n",
              "      --fill-color: #D2E3FC;\n",
              "      --hover-bg-color: #434B5C;\n",
              "      --hover-fill-color: #FFFFFF;\n",
              "      --disabled-bg-color: #3B4455;\n",
              "      --disabled-fill-color: #666;\n",
              "  }\n",
              "\n",
              "  .colab-df-quickchart {\n",
              "    background-color: var(--bg-color);\n",
              "    border: none;\n",
              "    border-radius: 50%;\n",
              "    cursor: pointer;\n",
              "    display: none;\n",
              "    fill: var(--fill-color);\n",
              "    height: 32px;\n",
              "    padding: 0;\n",
              "    width: 32px;\n",
              "  }\n",
              "\n",
              "  .colab-df-quickchart:hover {\n",
              "    background-color: var(--hover-bg-color);\n",
              "    box-shadow: 0 1px 2px rgba(60, 64, 67, 0.3), 0 1px 3px 1px rgba(60, 64, 67, 0.15);\n",
              "    fill: var(--button-hover-fill-color);\n",
              "  }\n",
              "\n",
              "  .colab-df-quickchart-complete:disabled,\n",
              "  .colab-df-quickchart-complete:disabled:hover {\n",
              "    background-color: var(--disabled-bg-color);\n",
              "    fill: var(--disabled-fill-color);\n",
              "    box-shadow: none;\n",
              "  }\n",
              "\n",
              "  .colab-df-spinner {\n",
              "    border: 2px solid var(--fill-color);\n",
              "    border-color: transparent;\n",
              "    border-bottom-color: var(--fill-color);\n",
              "    animation:\n",
              "      spin 1s steps(1) infinite;\n",
              "  }\n",
              "\n",
              "  @keyframes spin {\n",
              "    0% {\n",
              "      border-color: transparent;\n",
              "      border-bottom-color: var(--fill-color);\n",
              "      border-left-color: var(--fill-color);\n",
              "    }\n",
              "    20% {\n",
              "      border-color: transparent;\n",
              "      border-left-color: var(--fill-color);\n",
              "      border-top-color: var(--fill-color);\n",
              "    }\n",
              "    30% {\n",
              "      border-color: transparent;\n",
              "      border-left-color: var(--fill-color);\n",
              "      border-top-color: var(--fill-color);\n",
              "      border-right-color: var(--fill-color);\n",
              "    }\n",
              "    40% {\n",
              "      border-color: transparent;\n",
              "      border-right-color: var(--fill-color);\n",
              "      border-top-color: var(--fill-color);\n",
              "    }\n",
              "    60% {\n",
              "      border-color: transparent;\n",
              "      border-right-color: var(--fill-color);\n",
              "    }\n",
              "    80% {\n",
              "      border-color: transparent;\n",
              "      border-right-color: var(--fill-color);\n",
              "      border-bottom-color: var(--fill-color);\n",
              "    }\n",
              "    90% {\n",
              "      border-color: transparent;\n",
              "      border-bottom-color: var(--fill-color);\n",
              "    }\n",
              "  }\n",
              "</style>\n",
              "\n",
              "  <script>\n",
              "    async function quickchart(key) {\n",
              "      const quickchartButtonEl =\n",
              "        document.querySelector('#' + key + ' button');\n",
              "      quickchartButtonEl.disabled = true;  // To prevent multiple clicks.\n",
              "      quickchartButtonEl.classList.add('colab-df-spinner');\n",
              "      try {\n",
              "        const charts = await google.colab.kernel.invokeFunction(\n",
              "            'suggestCharts', [key], {});\n",
              "      } catch (error) {\n",
              "        console.error('Error during call to suggestCharts:', error);\n",
              "      }\n",
              "      quickchartButtonEl.classList.remove('colab-df-spinner');\n",
              "      quickchartButtonEl.classList.add('colab-df-quickchart-complete');\n",
              "    }\n",
              "    (() => {\n",
              "      let quickchartButtonEl =\n",
              "        document.querySelector('#df-acd93b8f-6bbe-436d-96f4-4ebd8db94f3b button');\n",
              "      quickchartButtonEl.style.display =\n",
              "        google.colab.kernel.accessAllowed ? 'block' : 'none';\n",
              "    })();\n",
              "  </script>\n",
              "</div>\n",
              "    </div>\n",
              "  </div>\n"
            ],
            "application/vnd.google.colaboratory.intrinsic+json": {
              "type": "dataframe",
              "variable_name": "Data"
            }
          },
          "metadata": {},
          "execution_count": 28
        }
      ],
      "source": [
        "Data"
      ]
    },
    {
      "cell_type": "code",
      "execution_count": 29,
      "metadata": {
        "id": "uWTmu1FbCUuS"
      },
      "outputs": [],
      "source": [
        "# Filtering rows where 'text' and 'headline' columns are not null\n",
        "df = Data[(Data['text'].notna()) & (Data['headline'].notna())]\n",
        "\n",
        "# Removing rows where the 'text' column has 'nan' as its value\n",
        "df = df[df['text'] != 'nan']\n",
        "\n",
        "# Dropping duplicate entries based on the 'text' column\n",
        "df = df.drop_duplicates(subset='text', inplace=False)\n"
      ]
    },
    {
      "cell_type": "code",
      "execution_count": 30,
      "metadata": {
        "id": "yW3xqCcEyhDb"
      },
      "outputs": [],
      "source": [
        "# Set of stopwords\n",
        "english_stopwords = set(stopwords.words('english'))\n",
        "\n",
        "def clean_text_input(input_text, mode):\n",
        "    modified_text = input_text.lower()\n",
        "    modified_text = BeautifulSoup(modified_text, \"lxml\").get_text()\n",
        "    modified_text = re.sub(r'\\([^)]*\\)', '', modified_text)\n",
        "    modified_text = modified_text.replace('\"', '')\n",
        "    modified_text = ' '.join([contraction_mapping.get(word, word) for word in modified_text.split()])\n",
        "    modified_text = re.sub(r\"'s\\b\", \"\", modified_text)\n",
        "    modified_text = re.sub(\"[^a-zA-Z]\", \" \", modified_text)\n",
        "    modified_text = re.sub('[m]{2,}', 'mm', modified_text)\n",
        "\n",
        "    if mode == 0:\n",
        "        modified_text = re.sub(r'\\.', ' . ', modified_text)\n",
        "        words_list = [word for word in modified_text.split() if word not in english_stopwords]\n",
        "    else:\n",
        "        words_list = modified_text.split()\n",
        "\n",
        "    # Filter out single-character words\n",
        "    longer_words = [word for word in words_list if len(word) > 1]\n",
        "    return \" \".join(longer_words).strip()\n"
      ]
    },
    {
      "cell_type": "code",
      "execution_count": 31,
      "metadata": {
        "id": "RUozoMqQ1Pes"
      },
      "outputs": [],
      "source": [
        "# Flat contraction mapping\n",
        "contraction_mapping = {\n",
        "    \"I'd\": \"I would\", \"I'd've\": \"I would have\", \"I'll\": \"I will\", \"I'll've\": \"I will have\",\n",
        "    \"I'm\": \"I am\", \"I've\": \"I have\",\n",
        "    \"you'd\": \"you would\", \"you'd've\": \"you would have\", \"you'll\": \"you will\",\n",
        "    \"you'll've\": \"you will have\", \"you're\": \"you are\", \"you've\": \"you have\",\n",
        "    \"he'd\": \"he would\", \"he'll\": \"he will\", \"he's\": \"he is\",\n",
        "    \"she'd\": \"she would\", \"she'd've\": \"she would have\", \"she'll\": \"she will\",\n",
        "    \"she'll've\": \"she will have\", \"she's\": \"she is\",\n",
        "    \"it'd\": \"it would\", \"it'd've\": \"it would have\", \"it'll\": \"it will\",\n",
        "    \"it'll've\": \"it will have\", \"it's\": \"it is\",\n",
        "    \"we'd\": \"we would\", \"we'd've\": \"we would have\", \"we'll\": \"we will\",\n",
        "    \"we'll've\": \"we will have\", \"we're\": \"we are\", \"we've\": \"we have\",\n",
        "    \"they'd\": \"they would\", \"they'd've\": \"they would have\", \"they'll\": \"they will\",\n",
        "    \"they'll've\": \"they will have\", \"they're\": \"they are\", \"they've\": \"they have\",\n",
        "    \"aren't\": \"are not\", \"can't\": \"cannot\", \"couldn't\": \"could not\", \"didn't\": \"did not\",\n",
        "    \"doesn't\": \"does not\", \"don't\": \"do not\", \"hadn't\": \"had not\", \"hasn't\": \"has not\",\n",
        "    \"haven't\": \"have not\", \"isn't\": \"is not\", \"mustn't\": \"must not\", \"shan't\": \"shall not\",\n",
        "    \"shouldn't\": \"should not\", \"wasn't\": \"was not\", \"weren't\": \"were not\", \"won't\": \"will not\",\n",
        "    \"wouldn't\": \"would not\", \"'cause\": \"because\", \"o'clock\": \"of the clock\", \"ma'am\": \"madam\", \"let's\": \"let us\"\n",
        "}\n"
      ]
    },
    {
      "cell_type": "code",
      "execution_count": 9,
      "metadata": {
        "id": "1fmqZ6fb60np"
      },
      "outputs": [],
      "source": [
        "cleaned_texts_list = []\n",
        "for t in df['text']:\n",
        "    cleaned_texts_list.append(clean_text_input(t, 0))"
      ]
    },
    {
      "cell_type": "code",
      "execution_count": 32,
      "metadata": {
        "id": "EVI9HLowAf62"
      },
      "outputs": [],
      "source": [
        "#call the function\n",
        "clean_summary = []\n",
        "for t in df['headline']:\n",
        "    clean_summary.append(clean_text_input(t,0))"
      ]
    },
    {
      "cell_type": "code",
      "execution_count": 33,
      "metadata": {
        "id": "a50C4-IU9Gb7"
      },
      "outputs": [],
      "source": [
        "df['text']=cleaned_texts_list\n",
        "df['headline']=clean_summary\n",
        "\n",
        "df.replace('', np.nan, inplace=True)\n",
        "df.dropna(axis=0,inplace=True)"
      ]
    },
    {
      "cell_type": "markdown",
      "metadata": {
        "id": "aC7uHaPoNcH5"
      },
      "source": [
        "Updating the df"
      ]
    },
    {
      "cell_type": "markdown",
      "metadata": {
        "id": "0fGQUB8kOyaO"
      },
      "source": [
        "**Analyzing the sequence distribution**"
      ]
    },
    {
      "cell_type": "code",
      "execution_count": 34,
      "metadata": {
        "colab": {
          "base_uri": "https://localhost:8080/",
          "height": 602
        },
        "id": "h306jOy2N6ui",
        "outputId": "a971dddb-8c94-484d-ba29-ac2930cff0ab"
      },
      "outputs": [
        {
          "output_type": "display_data",
          "data": {
            "text/plain": [
              "<Figure size 1200x600 with 2 Axes>"
            ],
            "image/png": "[encoded data removed]"
          },
          "metadata": {}
        }
      ],
      "source": [
        "import pandas as pd\n",
        "import matplotlib.pyplot as plt\n",
        "\n",
        "# Assuming your DataFrame 'df' and list calculations are correct\n",
        "text_word_count = [len(i.split()) for i in df['text']]\n",
        "headline_word_count = [len(j.split()) for j in df['headline']]\n",
        "length_df = pd.DataFrame({'text': text_word_count, 'headline': headline_word_count})\n",
        "\n",
        "fig, axes = plt.subplots(nrows=1, ncols=2, figsize=(12, 6))\n",
        "length_df['text'].hist(bins=30, range=[0, 1000], alpha=0.75, ax=axes[0])\n",
        "length_df['headline'].hist(bins=30, range=[0, 1000], alpha=0.75, ax=axes[1])\n",
        "\n",
        "axes[0].set_title('Text Word Count')\n",
        "axes[1].set_title('Headline Word Count')\n",
        "axes[0].set_xlabel('Word Count')\n",
        "axes[0].set_ylabel('Frequency')\n",
        "axes[1].set_xlabel('Word Count')\n",
        "\n",
        "plt.suptitle('Word Count Distribution in Text and Headlines')\n",
        "plt.show()\n"
      ]
    },
    {
      "cell_type": "code",
      "execution_count": 35,
      "metadata": {
        "id": "9ApVnUxJPXYT"
      },
      "outputs": [],
      "source": [
        "# From the graph\n",
        "# We can fix maximum length of text = 150 since most of the reviews have a length of 150 and maximum headline length of 50, since maximum headlines are of size 40\n",
        "\n",
        "max_len_text= 150\n",
        "max_len_headline=50"
      ]
    },
    {
      "cell_type": "code",
      "execution_count": 36,
      "metadata": {
        "colab": {
          "base_uri": "https://localhost:8080/"
        },
        "id": "YBPwN7lmGj6v",
        "outputId": "e0681665-1529-4429-91e8-9ff5b267e57f"
      },
      "outputs": [
        {
          "output_type": "stream",
          "name": "stdout",
          "text": [
            "0.9975415139098555\n"
          ]
        }
      ],
      "source": [
        "cnt=0\n",
        "for i in df['text']:\n",
        "    if(len(i.split())<=1500):\n",
        "        cnt=cnt+1\n",
        "print(cnt/len(df['text']))"
      ]
    },
    {
      "cell_type": "markdown",
      "metadata": {
        "id": "dbjBRO7BIobl"
      },
      "source": [
        "Selecting text and headlines below the maximum lengths"
      ]
    },
    {
      "cell_type": "code",
      "execution_count": 37,
      "metadata": {
        "id": "DLEMfHWTIoHy"
      },
      "outputs": [],
      "source": [
        "text1 =np.array(df['text'])\n",
        "headline1=np.array(df['headline'])\n",
        "\n",
        "short_text=[]\n",
        "short_summary=[]\n",
        "\n",
        "for i in range(len(text1)):\n",
        "    if(len(headline1[i].split())<=50 and len(text1[i].split())<=150):\n",
        "        short_text.append(text1[i])\n",
        "        short_summary.append(headline1[i])\n",
        "\n",
        "df=pd.DataFrame({'text':short_text,'summary':short_summary})"
      ]
    },
    {
      "cell_type": "code",
      "execution_count": 38,
      "metadata": {
        "id": "-2cdR4iXImwQ"
      },
      "outputs": [],
      "source": [
        "# Validating the lengths\n",
        "\n",
        "text1 =np.array(df['text'])\n",
        "headline1=np.array(df['summary'])\n",
        "\n",
        "\n",
        "for i in range(len(text1)):\n",
        "    if(len(headline1[i].split())>=150):\n",
        "      print(i)\n"
      ]
    },
    {
      "cell_type": "code",
      "execution_count": 39,
      "metadata": {
        "colab": {
          "base_uri": "https://localhost:8080/"
        },
        "id": "ytlW3ABFo2-M",
        "outputId": "c3272c34-4e3b-4cce-93ab-d98552187991"
      },
      "outputs": [
        {
          "output_type": "stream",
          "name": "stdout",
          "text": [
            "guy like every facebook status update instagram picture post better yet frequently comment posts sign wants interact may indicate likes look see comments people posts well comments frequently may reveal avid social media user however rarely likes comments posts sign might feelings publicly comments one photos posts respond eager start conversation way may reveal likes least enjoys messaging example may say great photo could respond saying vancouver last week beautiful city guy met starts liking commenting old photos sig interested means spent time looking back old photos probably wants know better enjoys looking pictures guy likes want connect follow variety different social media platforms example may add facebook snapchat start following twitter instagram adding number social media sites likely sign wants look posts photos selfies attempt get know better\n",
            "see interacts posts reply comments notice comments old pictures posts check see added multiple social media platforms\n"
          ]
        }
      ],
      "source": [
        "print(df['text'][50],df['summary'][50],sep='\\n')"
      ]
    },
    {
      "cell_type": "markdown",
      "metadata": {
        "id": "dGoWWbOiXbxK"
      },
      "source": [
        "**Splitting data into train, test  --  70 - 30**"
      ]
    },
    {
      "cell_type": "code",
      "execution_count": 98,
      "metadata": {
        "id": "R8BhLDriRM_m"
      },
      "outputs": [],
      "source": [
        "from sklearn.model_selection import train_test_split\n",
        "x_tr,x_val,y_tr,y_val=train_test_split(df['text'],df['summary'],test_size=0.3,random_state=0,shuffle=True)"
      ]
    },
    {
      "cell_type": "code",
      "source": [
        "from keras.preprocessing.text import Tokenizer\n",
        "from keras.preprocessing.sequence import pad_sequences\n",
        "\n",
        "# Ensure x_tr and y_tr are lists of strings\n",
        "x_tr = x_tr.tolist() if isinstance(x_tr, np.ndarray) else list(x_tr)\n",
        "y_tr = y_tr.tolist() if isinstance(y_tr, np.ndarray) else list(y_tr)\n",
        "\n",
        "# Initialize tokenizers with an OOV token to handle out-of-vocabulary words\n",
        "x_tokenizer = Tokenizer(oov_token='unk')\n",
        "y_tokenizer = Tokenizer(oov_token='unk')\n",
        "\n",
        "# Fit tokenizers on texts including special tokens\n",
        "x_tokenizer.fit_on_texts(['sostok', 'eostok'] + x_tr)\n",
        "y_tokenizer.fit_on_texts(['sostok', 'eostok'] + y_tr)\n",
        "\n",
        "# Convert text sequences into integer sequences\n",
        "x_tr_seq = x_tokenizer.texts_to_sequences(x_tr)\n",
        "x_val_seq = x_tokenizer.texts_to_sequences(x_val)\n",
        "\n",
        "# Pad sequences to a fixed length\n",
        "x_tr = pad_sequences(x_tr_seq, maxlen=max_len_text, padding='post')\n",
        "x_val = pad_sequences(x_val_seq, maxlen=max_len_text, padding='post')\n",
        "\n",
        "# Size of vocabulary (+1 for padding token)\n",
        "x_voc = len(x_tokenizer.word_index) + 1\n",
        "\n",
        "# Repeat for summaries\n",
        "y_tr_seq = y_tokenizer.texts_to_sequences(y_tr)\n",
        "y_val_seq = y_tokenizer.texts_to_sequences(y_val)\n",
        "y_tr = pad_sequences(y_tr_seq, maxlen=max_len_headline, padding='post')\n",
        "y_val = pad_sequences(y_val_seq, maxlen=max_len_headline, padding='post')\n",
        "y_voc = len(y_tokenizer.word_index) + 1\n",
        "\n",
        "print(\"Size of vocabulary in X = {}\".format(x_voc))\n",
        "print(\"Size of vocabulary in Y = {}\".format(y_voc))\n",
        "\n",
        "# Ensure special tokens are included in the vocabulary\n",
        "target_word_index = y_tokenizer.word_index\n",
        "if 'sostok' not in target_word_index:\n",
        "    target_word_index['sostok'] = max(target_word_index.values()) + 1\n",
        "if 'eostok' not in target_word_index:\n",
        "    target_word_index['eostok'] = max(target_word_index.values()) + 1\n"
      ],
      "metadata": {
        "colab": {
          "base_uri": "https://localhost:8080/"
        },
        "id": "0qelmpQLQD5F",
        "outputId": "5bbbcc53-3322-46d1-a221-201e5169d8d2"
      },
      "execution_count": 99,
      "outputs": [
        {
          "output_type": "stream",
          "name": "stdout",
          "text": [
            "Size of vocabulary in X = 60014\n",
            "Size of vocabulary in Y = 35108\n"
          ]
        }
      ]
    },
    {
      "cell_type": "code",
      "source": [
        "thresh=4\n",
        "\n",
        "cnt=0\n",
        "tot_cnt=0\n",
        "freq=0\n",
        "tot_freq=0\n",
        "\n",
        "for key,value in x_tokenizer.word_counts.items():\n",
        "    tot_cnt=tot_cnt+1\n",
        "    tot_freq=tot_freq+value\n",
        "    if(value<thresh):\n",
        "        cnt=cnt+1\n",
        "        freq=freq+value\n",
        "\n",
        "print(\"% of rare words in vocabulary:\",(cnt/tot_cnt)*100)\n",
        "print(\"Total Coverage of rare words:\",(freq/tot_freq)*100)"
      ],
      "metadata": {
        "colab": {
          "base_uri": "https://localhost:8080/"
        },
        "id": "g6t-s8j_QNm4",
        "outputId": "cb62fc63-f575-4b8a-d1c3-7b1ba2d21a4a"
      },
      "execution_count": 100,
      "outputs": [
        {
          "output_type": "stream",
          "name": "stdout",
          "text": [
            "% of rare words in vocabulary: 51.67966406718656\n",
            "Total Coverage of rare words: 1.0464487313290465\n"
          ]
        }
      ]
    },
    {
      "cell_type": "code",
      "source": [
        "from keras.preprocessing.text import Tokenizer\n",
        "from keras.preprocessing.sequence import pad_sequences\n",
        "\n",
        "# Assuming 'original_x_tr' and 'original_x_val' hold the original training and validation texts\n",
        "original_x_tr = df['text'].values  # Original texts as a NumPy array or list\n",
        "original_x_val = df['text'].values  # Same for validation\n",
        "\n",
        "# Initialize the tokenizer\n",
        "x_tokenizer = Tokenizer(num_words=tot_cnt-cnt)\n",
        "x_tokenizer.fit_on_texts(list(original_x_tr))  # Use the original texts for fitting\n",
        "\n",
        "# Convert text sequences into integer sequences\n",
        "x_tr_seq = x_tokenizer.texts_to_sequences(original_x_tr)\n",
        "x_val_seq = x_tokenizer.texts_to_sequences(original_x_val)\n",
        "\n",
        "# Padding zero up to maximum length\n",
        "x_tr = pad_sequences(x_tr_seq, maxlen=max_len_text, padding='post')\n",
        "x_val = pad_sequences(x_val_seq, maxlen=max_len_text, padding='post')\n",
        "\n",
        "# Size of vocabulary (+1 for padding token)\n",
        "x_voc = x_tokenizer.num_words + 1\n",
        "\n",
        "print(\"Size of vocabulary in X = {}\".format(x_voc))\n"
      ],
      "metadata": {
        "colab": {
          "base_uri": "https://localhost:8080/"
        },
        "id": "SofnBZk-SJeE",
        "outputId": "c8294148-f78a-4e4b-fa25-a74b10d1359a"
      },
      "execution_count": 103,
      "outputs": [
        {
          "output_type": "stream",
          "name": "stdout",
          "text": [
            "Size of vocabulary in X = 28999\n"
          ]
        }
      ]
    },
    {
      "cell_type": "code",
      "source": [
        "# Assume 'df' is your original DataFrame with a 'summary' column containing the raw text summaries\n",
        "original_y_tr = df['summary'].values  # Ensure this is run before any encoding\n",
        "\n",
        "# Now prepare the tokenizer for the summaries\n",
        "y_tokenizer = Tokenizer()\n",
        "y_tokenizer.fit_on_texts(list(original_y_tr))  # Fit using the original text data\n"
      ],
      "metadata": {
        "id": "rmZy8eqNSjLR"
      },
      "execution_count": 105,
      "outputs": []
    },
    {
      "cell_type": "code",
      "source": [
        "thresh=6\n",
        "\n",
        "cnt=0\n",
        "tot_cnt=0\n",
        "freq=0\n",
        "tot_freq=0\n",
        "\n",
        "for key,value in y_tokenizer.word_counts.items():\n",
        "    tot_cnt=tot_cnt+1\n",
        "    tot_freq=tot_freq+value\n",
        "    if(value<thresh):\n",
        "        cnt=cnt+1\n",
        "        freq=freq+value\n",
        "\n",
        "print(\"% of rare words in vocabulary:\",(cnt/tot_cnt)*100)\n",
        "print(\"Total Coverage of rare words:\",(freq/tot_freq)*100)"
      ],
      "metadata": {
        "colab": {
          "base_uri": "https://localhost:8080/"
        },
        "id": "OSpPbpBJSl5I",
        "outputId": "26ff7492-39db-4b84-f1d8-0de1c818900b"
      },
      "execution_count": 106,
      "outputs": [
        {
          "output_type": "stream",
          "name": "stdout",
          "text": [
            "% of rare words in vocabulary: 63.39814032121724\n",
            "Total Coverage of rare words: 2.6460966977275127\n"
          ]
        }
      ]
    },
    {
      "cell_type": "code",
      "source": [
        "from keras.preprocessing.text import Tokenizer\n",
        "from keras.preprocessing.sequence import pad_sequences\n",
        "from sklearn.model_selection import train_test_split\n",
        "\n",
        "# Assuming 'df' has a 'summary' column with raw text summaries\n",
        "x, y = df['text'], df['summary']\n",
        "x_tr, x_val, y_tr, y_val = train_test_split(x, y, test_size=0.3, random_state=0, shuffle=True)\n",
        "\n",
        "# Tokenizer setup\n",
        "y_tokenizer = Tokenizer(num_words=tot_cnt - cnt)\n",
        "y_tokenizer.fit_on_texts(list(y_tr))  # Ensure y_tr is a list of raw text summaries\n",
        "\n",
        "# Convert text sequences into integer sequences\n",
        "y_tr_seq = y_tokenizer.texts_to_sequences(y_tr)\n",
        "y_val_seq = y_tokenizer.texts_to_sequences(y_val)\n",
        "\n",
        "# Padding zero up to maximum length\n",
        "y_tr = pad_sequences(y_tr_seq, maxlen=max_len_headline, padding='post')\n",
        "y_val = pad_sequences(y_val_seq, maxlen=max_len_headline, padding='post')\n",
        "\n",
        "# Size of vocabulary (+1 for padding token not accounted for in num_words)\n",
        "y_voc = y_tokenizer.num_words + 1\n",
        "\n",
        "print(\"Size of vocabulary in Y = {}\".format(y_voc))\n"
      ],
      "metadata": {
        "colab": {
          "base_uri": "https://localhost:8080/"
        },
        "id": "xydsSHxXQSMQ",
        "outputId": "3e73fcb5-0391-4a1f-cd48-c487cfba4952"
      },
      "execution_count": 108,
      "outputs": [
        {
          "output_type": "stream",
          "name": "stdout",
          "text": [
            "Size of vocabulary in Y = 14723\n"
          ]
        }
      ]
    },
    {
      "cell_type": "code",
      "source": [
        "ind=[]\n",
        "for i in range(len(y_tr)):\n",
        "    cnt=0\n",
        "    for j in y_tr[i]:\n",
        "        if j!=0:\n",
        "            cnt=cnt+1\n",
        "    if(cnt==2):\n",
        "        ind.append(i)\n",
        "\n",
        "y_tr=np.delete(y_tr,ind, axis=0)\n",
        "x_tr=np.delete(x_tr,ind, axis=0)"
      ],
      "metadata": {
        "id": "SBwtVw9XQ79I"
      },
      "execution_count": 109,
      "outputs": []
    },
    {
      "cell_type": "code",
      "source": [
        "ind=[]\n",
        "for i in range(len(y_val)):\n",
        "    cnt=0\n",
        "    for j in y_val[i]:\n",
        "        if j!=0:\n",
        "            cnt=cnt+1\n",
        "    if(cnt==2):\n",
        "        ind.append(i)\n",
        "\n",
        "y_val=np.delete(y_val,ind, axis=0)\n",
        "x_val=np.delete(x_val,ind, axis=0)"
      ],
      "metadata": {
        "id": "ZX78wntrQ76i"
      },
      "execution_count": 110,
      "outputs": []
    },
    {
      "cell_type": "code",
      "source": [
        "from keras import backend as K\n",
        "import gensim\n",
        "from numpy import *\n",
        "import numpy as np\n",
        "import pandas as pd\n",
        "import re\n",
        "from bs4 import BeautifulSoup\n",
        "from keras.preprocessing.text import Tokenizer\n",
        "from keras.preprocessing.sequence import pad_sequences\n",
        "from nltk.corpus import stopwords\n",
        "from tensorflow.keras.layers import Input, LSTM, Embedding, Dense, Concatenate, TimeDistributed\n",
        "from tensorflow.keras.models import Model\n",
        "from tensorflow.keras.callbacks import EarlyStopping\n",
        "import warnings\n",
        "pd.set_option(\"display.max_colwidth\", 200)\n",
        "warnings.filterwarnings(\"ignore\")\n",
        "\n",
        "print(\"Size of vocabulary from the w2v model = {}\".format(x_voc))\n",
        "\n",
        "K.clear_session()\n",
        "\n",
        "latent_dim = 300\n",
        "embedding_dim=200\n",
        "\n",
        "# Encoder\n",
        "encoder_inputs = Input(shape=(max_len_text,))\n",
        "\n",
        "#embedding layer\n",
        "enc_emb =  Embedding(x_voc, embedding_dim,trainable=True)(encoder_inputs)\n",
        "\n",
        "#encoder lstm 1\n",
        "encoder_lstm1 = LSTM(latent_dim,return_sequences=True,return_state=True,dropout=0.4,recurrent_dropout=0.4)\n",
        "encoder_output1, state_h1, state_c1 = encoder_lstm1(enc_emb)\n",
        "\n",
        "#encoder lstm 2\n",
        "encoder_lstm2 = LSTM(latent_dim,return_sequences=True,return_state=True,dropout=0.4,recurrent_dropout=0.4)\n",
        "encoder_output2, state_h2, state_c2 = encoder_lstm2(encoder_output1)\n",
        "\n",
        "#encoder lstm 3\n",
        "encoder_lstm3=LSTM(latent_dim, return_state=True, return_sequences=True,dropout=0.4,recurrent_dropout=0.4)\n",
        "encoder_outputs, state_h, state_c= encoder_lstm3(encoder_output2)\n",
        "\n",
        "# Set up the decoder, using `encoder_states` as initial state.\n",
        "decoder_inputs = Input(shape=(None,))\n",
        "\n",
        "#embedding layer\n",
        "dec_emb_layer = Embedding(y_voc, embedding_dim,trainable=True)\n",
        "dec_emb = dec_emb_layer(decoder_inputs)\n",
        "\n",
        "decoder_lstm = LSTM(latent_dim, return_sequences=True, return_state=True,dropout=0.4,recurrent_dropout=0.2)\n",
        "decoder_outputs,decoder_fwd_state, decoder_back_state = decoder_lstm(dec_emb,initial_state=[state_h, state_c])\n",
        "\n",
        "#dense layer\n",
        "decoder_dense =  TimeDistributed(Dense(y_voc, activation='softmax'))\n",
        "decoder_outputs = decoder_dense(decoder_outputs)\n",
        "\n",
        "# Define the model\n",
        "model = Model([encoder_inputs, decoder_inputs], decoder_outputs)\n",
        "\n",
        "model.summary()\n"
      ],
      "metadata": {
        "colab": {
          "base_uri": "https://localhost:8080/"
        },
        "id": "szV6Ic2jQ731",
        "outputId": "833d4740-7afa-43ee-aa48-5c4361e12308"
      },
      "execution_count": 111,
      "outputs": [
        {
          "output_type": "stream",
          "name": "stdout",
          "text": [
            "Size of vocabulary from the w2v model = 28999\n",
            "Model: \"model\"\n",
            "__________________________________________________________________________________________________\n",
            " Layer (type)                Output Shape                 Param #   Connected to                  \n",
            "==================================================================================================\n",
            " input_1 (InputLayer)        [(None, 150)]                0         []                            \n",
            "                                                                                                  \n",
            " embedding (Embedding)       (None, 150, 200)             5799800   ['input_1[0][0]']             \n",
            "                                                                                                  \n",
            " lstm (LSTM)                 [(None, 150, 300),           601200    ['embedding[0][0]']           \n",
            "                              (None, 300),                                                        \n",
            "                              (None, 300)]                                                        \n",
            "                                                                                                  \n",
            " input_2 (InputLayer)        [(None, None)]               0         []                            \n",
            "                                                                                                  \n",
            " lstm_1 (LSTM)               [(None, 150, 300),           721200    ['lstm[0][0]']                \n",
            "                              (None, 300),                                                        \n",
            "                              (None, 300)]                                                        \n",
            "                                                                                                  \n",
            " embedding_1 (Embedding)     (None, None, 200)            2944600   ['input_2[0][0]']             \n",
            "                                                                                                  \n",
            " lstm_2 (LSTM)               [(None, 150, 300),           721200    ['lstm_1[0][0]']              \n",
            "                              (None, 300),                                                        \n",
            "                              (None, 300)]                                                        \n",
            "                                                                                                  \n",
            " lstm_3 (LSTM)               [(None, None, 300),          601200    ['embedding_1[0][0]',         \n",
            "                              (None, 300),                           'lstm_2[0][1]',              \n",
            "                              (None, 300)]                           'lstm_2[0][2]']              \n",
            "                                                                                                  \n",
            " time_distributed (TimeDist  (None, None, 14723)          4431623   ['lstm_3[0][0]']              \n",
            " ributed)                                                                                         \n",
            "                                                                                                  \n",
            "==================================================================================================\n",
            "Total params: 15820823 (60.35 MB)\n",
            "Trainable params: 15820823 (60.35 MB)\n",
            "Non-trainable params: 0 (0.00 Byte)\n",
            "__________________________________________________________________________________________________\n"
          ]
        }
      ]
    },
    {
      "cell_type": "code",
      "source": [
        "model.compile(optimizer='rmsprop', loss='sparse_categorical_crossentropy')\n"
      ],
      "metadata": {
        "id": "SRfgmE9jQ7xm"
      },
      "execution_count": 112,
      "outputs": []
    },
    {
      "cell_type": "code",
      "source": [
        "es = EarlyStopping(monitor='val_loss', mode='min', verbose=1,patience=2)\n"
      ],
      "metadata": {
        "id": "cVPKPYt8Q7uj"
      },
      "execution_count": 113,
      "outputs": []
    },
    {
      "cell_type": "code",
      "source": [
        "# Configuring the model for training\n",
        "training_history = model.fit(\n",
        "    [x_train, y_train[:, :-1]],\n",
        "    y_train.reshape(y_train.shape[0], y_train.shape[1], 1)[:, 1:],\n",
        "    epochs=50,\n",
        "    batch_size=128,\n",
        "    callbacks=[early_stopping],\n",
        "    validation_data=(\n",
        "        [x_validate, y_validate[:, :-1]],\n",
        "        y_validate.reshape(y_validate.shape[0], y_validate.shape[1], 1)[:, 1:]\n",
        "    )\n",
        ")"
      ],
      "metadata": {
        "id": "6EUvaKn0f11X"
      },
      "execution_count": null,
      "outputs": []
    },
    {
      "cell_type": "code",
      "source": [
        "reverse_target_word_index=y_tokenizer.index_word\n",
        "reverse_source_word_index=x_tokenizer.index_word\n",
        "target_word_index=y_tokenizer.word_index"
      ],
      "metadata": {
        "id": "EdsgkFwATAyV"
      },
      "execution_count": 78,
      "outputs": []
    },
    {
      "cell_type": "code",
      "source": [
        "# Setting up the encoder model to process the input sequence and retrieve the corresponding states\n",
        "model_encoder = Model(inputs=encoder_inputs, outputs=[encoder_outputs, state_h, state_c])\n",
        "\n",
        "# Initializing the input layers for the decoder's states\n",
        "input_decoder_state_h = Input(shape=(latent_dim,))\n",
        "input_decoder_state_c = Input(shape=(latent_dim,))\n",
        "input_decoder_hidden_state = Input(shape=(max_len_text, latent_dim))\n",
        "\n",
        "# Embedding the decoder inputs\n",
        "embedded_decoder = dec_emb_layer(decoder_inputs)\n",
        "\n",
        "# Generating the next word in sequence using initial states from the encoder\n",
        "output_decoder, new_state_h, new_state_c = decoder_lstm(embedded_decoder, initial_state=[input_decoder_state_h, input_decoder_state_c])\n",
        "\n",
        "# Applying a dense softmax layer to create a probability distribution over the target vocabulary\n",
        "output_decoder = decoder_dense(output_decoder)\n",
        "\n",
        "# Constructing the complete decoder model with outputs and updated states\n",
        "model_decoder = Model(\n",
        "    [decoder_inputs, input_decoder_hidden_state, input_decoder_state_h, input_decoder_state_c],\n",
        "    [output_decoder, new_state_h, new_state_c]\n",
        ")\n"
      ],
      "metadata": {
        "id": "EiyRp6lJWIJM"
      },
      "execution_count": 79,
      "outputs": []
    },
    {
      "cell_type": "code",
      "source": [
        "def translate_sequence(input_seq):\n",
        "    # Fetch initial states from encoder output\n",
        "    initial_states = encoder_model.predict(input_seq)\n",
        "\n",
        "    # Initialize the sequence with the start token\n",
        "    start_sequence = np.zeros((1, 1))\n",
        "    if 'sostok' in target_word_index:\n",
        "        start_sequence[0, 0] = target_word_index['sostok']\n",
        "    else:\n",
        "        print(\"Error: Start token 'sostok' not in vocabulary index.\")\n",
        "        return \"\"\n",
        "\n",
        "    translation = ''\n",
        "    end_of_sequence = False\n",
        "    while not end_of_sequence:\n",
        "        # Predict the next word's token and update states\n",
        "        predicted_tokens, state_h, state_c = decoder_model.predict([start_sequence] + initial_states)\n",
        "\n",
        "        # Choose the token with highest probability\n",
        "        next_token_index = np.argmax(predicted_tokens[0, -1, :])\n",
        "        next_word = reverse_target_word_index.get(next_token_index, '')\n",
        "\n",
        "        # Check if the translation should end\n",
        "        if next_word == '' or len(translation) > max_decoder_seq_length:\n",
        "            end_of_sequence = True\n",
        "        else:\n",
        "            translation += ' ' + next_word\n",
        "\n",
        "            # Prepare the next token for the LSTM input\n",
        "            start_sequence = np.zeros((1, 1))\n",
        "            start_sequence[0, 0] = next_token_index\n",
        "\n",
        "            # Update LSTM states\n",
        "            initial_states = [state_h, state_c]\n",
        "\n",
        "    return translation.strip()\n"
      ],
      "metadata": {
        "id": "yOLYbsvlWKRF"
      },
      "execution_count": 87,
      "outputs": []
    },
    {
      "cell_type": "code",
      "source": [
        "# Check if 'sostok' is not in the dictionary and add it\n",
        "if 'sostok' not in target_word_index:\n",
        "    target_word_index['sostok'] = len(target_word_index) + 1  # Assign a new unique index\n",
        "\n",
        "# Do the same for 'eostok' if necessary\n",
        "if 'eostok' not in target_word_index:\n",
        "    target_word_index['eostok'] = len(target_word_index) + 1  # Assign a new unique index\n"
      ],
      "metadata": {
        "id": "Q7qVYiPfaE79"
      },
      "execution_count": 88,
      "outputs": []
    },
    {
      "cell_type": "code",
      "source": [
        "def seq2summary(input_seq):\n",
        "    newString = ''\n",
        "    for i in input_seq:\n",
        "        if i != 0 and i not in [target_word_index.get('sostok', None), target_word_index.get('eostok', None)]:\n",
        "            newString += reverse_target_word_index.get(i, '') + ' '\n",
        "    return newString.strip()\n",
        "\n",
        "def seq2text(input_seq):\n",
        "    newString = ''\n",
        "    for i in input_seq:\n",
        "        if i != 0:\n",
        "            newString += reverse_source_word_index.get(i, '') + ' '\n",
        "    return newString.strip()\n"
      ],
      "metadata": {
        "id": "sA8Fqs8IWNUV"
      },
      "execution_count": 89,
      "outputs": []
    },
    {
      "cell_type": "code",
      "source": [
        "import pandas as pd\n",
        "\n",
        "# Initialize a list to hold dictionaries for each set of data\n",
        "data = []\n",
        "\n",
        "# Process each sequence\n",
        "for i in range(0, 100):\n",
        "    review = seq2text(x_tr[i])\n",
        "    original_summary = seq2summary(y_tr[i])\n",
        "    predicted_summary = decode_sequence(x_tr[i].reshape(1, max_len_text))\n",
        "\n",
        "    # Append each set of results to the data list as a dictionary\n",
        "    data.append({\n",
        "        \"Review\": review,\n",
        "        \"Original Summary\": original_summary,\n",
        "        \"Predicted Summary\": predicted_summary\n",
        "    })\n",
        "\n",
        "# Convert the list of dictionaries to a DataFrame\n",
        "df = pd.DataFrame(data)\n",
        "\n",
        "# Specify the file path for the CSV\n",
        "file_path = '/content/drive/MyDrive/CS521_Project/Attention_LSTM_Pred.csv'\n",
        "\n",
        "# Write the DataFrame to a CSV file\n",
        "df.to_csv(file_path, index=False)\n"
      ],
      "metadata": {
        "id": "-oq5w5jUg-90"
      },
      "execution_count": null,
      "outputs": []
    }
  ],
  "metadata": {
    "colab": {
      "machine_shape": "hm",
      "provenance": []
    },
    "kernelspec": {
      "display_name": "Python 3",
      "name": "python3"
    }
  },
  "nbformat": 4,
  "nbformat_minor": 0
}