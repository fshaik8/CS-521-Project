{
  "cells": [
    {
      "cell_type": "code",
      "execution_count": 1,
      "metadata": {
        "colab": {
          "base_uri": "https://localhost:8080/"
        },
        "id": "8ZUzGcIueJPw",
        "outputId": "0c419c5c-99dd-482f-bfee-6146c4058b9b"
      },
      "outputs": [
        {
          "output_type": "stream",
          "name": "stdout",
          "text": [
            "Mounted at /content/drive\n"
          ]
        }
      ],
      "source": [
        "from google.colab import drive\n",
        "drive.mount('/content/drive')"
      ]
    },
    {
      "cell_type": "code",
      "execution_count": 2,
      "metadata": {
        "id": "MllrZqg7eQ9Y"
      },
      "outputs": [],
      "source": [
        "import pandas as pd\n",
        "import numpy as np\n",
        "import os\n",
        "import re\n",
        "import warnings\n",
        "warnings.filterwarnings(\"ignore\")\n",
        "from sklearn import datasets, linear_model\n",
        "from sklearn.model_selection import train_test_split\n",
        "from matplotlib import pyplot as plt\n",
        "from bs4 import BeautifulSoup\n",
        "from nltk.corpus import stopwords"
      ]
    },
    {
      "cell_type": "code",
      "execution_count": 3,
      "metadata": {
        "colab": {
          "base_uri": "https://localhost:8080/"
        },
        "id": "PpeBe0c4eYW2",
        "outputId": "2229b703-81de-4c94-b255-0c6de15a87f0"
      },
      "outputs": [
        {
          "output_type": "stream",
          "name": "stderr",
          "text": [
            "[nltk_data] Downloading package stopwords to /root/nltk_data...\n",
            "[nltk_data]   Unzipping corpora/stopwords.zip.\n"
          ]
        },
        {
          "output_type": "execute_result",
          "data": {
            "text/plain": [
              "True"
            ]
          },
          "metadata": {},
          "execution_count": 3
        }
      ],
      "source": [
        "import nltk\n",
        "nltk.download('stopwords')"
      ]
    },
    {
      "cell_type": "code",
      "execution_count": 4,
      "metadata": {
        "id": "Sr1HjBX8eaCe"
      },
      "outputs": [],
      "source": [
        "import csv\n",
        "\n",
        "def clean_csv(input_file, output_file):\n",
        "    with open(input_file, 'r', encoding='utf-8') as infile, open(output_file, 'w', newline='', encoding='utf-8') as outfile:\n",
        "        reader = csv.reader(infile)\n",
        "        writer = csv.writer(outfile)\n",
        "\n",
        "        for row in reader:\n",
        "            # Attempt to clean up rows by removing unexpected line breaks within cells and ensuring proper quoting\n",
        "            cleaned_row = [cell.replace('\\n', ' ').strip() for cell in row]\n",
        "            writer.writerow(cleaned_row)\n",
        "\n",
        "clean_csv('/content/drive/MyDrive/CS521_Project/wikihowAll.csv', '/content/drive/MyDrive/CS521_Project/cleaned_wikihowAll.csv')\n"
      ]
    },
    {
      "cell_type": "code",
      "execution_count": 5,
      "metadata": {
        "colab": {
          "base_uri": "https://localhost:8080/"
        },
        "id": "-vOJ8TdnGzUR",
        "outputId": "4fe27d53-b9f5-4988-e1a7-50a8b6e8ddfd"
      },
      "outputs": [
        {
          "output_type": "stream",
          "name": "stdout",
          "text": [
            "Data loaded successfully!\n",
            "Rows: 215365 Columns: 3\n"
          ]
        }
      ],
      "source": [
        "import pandas as pd\n",
        "\n",
        "# Ensure the file path points to your cleaned or modified CSV file\n",
        "file_path = '/content/drive/MyDrive/CS521_Project/cleaned_wikihowAll.csv'\n",
        "\n",
        "try:\n",
        "    # Read data from the CSV file\n",
        "    Data = pd.read_csv(file_path)\n",
        "\n",
        "    # Convert all data to string type\n",
        "    Data = Data.astype(str)\n",
        "\n",
        "    # Get the dimensions of the DataFrame\n",
        "    rows, columns = Data.shape\n",
        "\n",
        "    # Print the number of rows and columns to verify the size of your data\n",
        "    print(\"Data loaded successfully!\")\n",
        "    print(\"Rows:\", rows, \"Columns:\", columns)\n",
        "\n",
        "except Exception as e:\n",
        "    print(\"Failed to read the file:\", e)\n"
      ]
    },
    {
      "cell_type": "code",
      "execution_count": 6,
      "metadata": {
        "colab": {
          "base_uri": "https://localhost:8080/"
        },
        "id": "8dpCh4-1G81Z",
        "outputId": "b51715b0-fc5e-4424-d58d-a47b4058e605"
      },
      "outputs": [
        {
          "output_type": "stream",
          "name": "stdout",
          "text": [
            "                                            headline  \\\n",
            "0  Keep related supplies in the same area., Make ...   \n",
            "1  Create a sketch in the NeoPopRealist manner of...   \n",
            "2  Get a bachelor’s degree., Enroll in a studio-b...   \n",
            "3  Start with some experience or interest in art....   \n",
            "4  Keep your reference materials, sketches, artic...   \n",
            "\n",
            "                                    title  \\\n",
            "0          How to Be an Organized Artist1   \n",
            "1  How to Create a Neopoprealist Art Work   \n",
            "2      How to Be a Visual Effects Artist1   \n",
            "3           How to Become an Art Investor   \n",
            "4          How to Be an Organized Artist2   \n",
            "\n",
            "                                                text  \n",
            "0  If you're a photographer, keep all the necessa...  \n",
            "1  See the image for how this drawing develops st...  \n",
            "2  It is possible to become a VFX artist without ...  \n",
            "3  The best art investors do their research on th...  \n",
            "4  As you start planning for a project or work, y...  \n",
            "<class 'pandas.core.frame.DataFrame'>\n",
            "RangeIndex: 215365 entries, 0 to 215364\n",
            "Data columns (total 3 columns):\n",
            " #   Column    Non-Null Count   Dtype \n",
            "---  ------    --------------   ----- \n",
            " 0   headline  215365 non-null  object\n",
            " 1   title     215365 non-null  object\n",
            " 2   text      215365 non-null  object\n",
            "dtypes: object(3)\n",
            "memory usage: 4.9+ MB\n",
            "None\n",
            "headline    0\n",
            "title       0\n",
            "text        0\n",
            "dtype: int64\n"
          ]
        }
      ],
      "source": [
        "# Display the first few rows of the DataFrame\n",
        "print(Data.head())\n",
        "\n",
        "# Display a summary of the DataFrame\n",
        "print(Data.info())\n",
        "\n",
        "# Check for any missing values in each column\n",
        "print(Data.isnull().sum())\n"
      ]
    },
    {
      "cell_type": "code",
      "execution_count": 7,
      "metadata": {
        "id": "2qYfQiKJebOo"
      },
      "outputs": [],
      "source": [
        "# Filtering rows where 'text' and 'headline' columns are not null\n",
        "df = Data[(Data['text'].notna()) & (Data['headline'].notna())]\n",
        "\n",
        "# Removing rows where the 'text' column has 'nan' as its value\n",
        "df = df[df['text'] != 'nan']\n",
        "\n",
        "# Dropping duplicate entries based on the 'text' column\n",
        "df = df.drop_duplicates(subset='text', inplace=False)\n"
      ]
    },
    {
      "cell_type": "code",
      "execution_count": 8,
      "metadata": {
        "colab": {
          "base_uri": "https://localhost:8080/",
          "height": 419
        },
        "id": "puYPQ9uHedsL",
        "outputId": "265410eb-3f82-401d-8280-024296ac0762"
      },
      "outputs": [
        {
          "output_type": "execute_result",
          "data": {
            "text/plain": [
              "                                                 headline  \\\n",
              "0       Keep related supplies in the same area., Make ...   \n",
              "1       Create a sketch in the NeoPopRealist manner of...   \n",
              "2       Get a bachelor’s degree., Enroll in a studio-b...   \n",
              "3       Start with some experience or interest in art....   \n",
              "4       Keep your reference materials, sketches, artic...   \n",
              "...                                                   ...   \n",
              "215360  Consider changing the spelling of your name., ...   \n",
              "215361  Try out your name., Don’t legally change your ...   \n",
              "215362  Understand the process of relief printing., Ex...   \n",
              "215363  Understand the process of intaglio printing., ...   \n",
              "215364  Understand the different varieties of lithogra...   \n",
              "\n",
              "                                         title  \\\n",
              "0               How to Be an Organized Artist1   \n",
              "1       How to Create a Neopoprealist Art Work   \n",
              "2           How to Be a Visual Effects Artist1   \n",
              "3                How to Become an Art Investor   \n",
              "4               How to Be an Organized Artist2   \n",
              "...                                        ...   \n",
              "215360               How to Pick a Stage Name3   \n",
              "215361               How to Pick a Stage Name4   \n",
              "215362                 How to Identify Prints1   \n",
              "215363                 How to Identify Prints2   \n",
              "215364                 How to Identify Prints3   \n",
              "\n",
              "                                                     text  \n",
              "0       If you're a photographer, keep all the necessa...  \n",
              "1       See the image for how this drawing develops st...  \n",
              "2       It is possible to become a VFX artist without ...  \n",
              "3       The best art investors do their research on th...  \n",
              "4       As you start planning for a project or work, y...  \n",
              "...                                                   ...  \n",
              "215360  If you have a name that you like, you might fi...  \n",
              "215361  Your name might sound great to you when you sa...  \n",
              "215362  Relief printing is the oldest and most traditi...  \n",
              "215363  Intaglio is Italian for \"incis­ing,\" and corre...  \n",
              "215364  Lithography is a big term often used to refer ...  \n",
              "\n",
              "[209115 rows x 3 columns]"
            ],
            "text/html": [
              "\n",
              "  <div id=\"df-4f156c72-809e-4c56-b99e-1b52393aa6ff\" class=\"colab-df-container\">\n",
              "    <div>\n",
              "<style scoped>\n",
              "    .dataframe tbody tr th:only-of-type {\n",
              "        vertical-align: middle;\n",
              "    }\n",
              "\n",
              "    .dataframe tbody tr th {\n",
              "        vertical-align: top;\n",
              "    }\n",
              "\n",
              "    .dataframe thead th {\n",
              "        text-align: right;\n",
              "    }\n",
              "</style>\n",
              "<table border=\"1\" class=\"dataframe\">\n",
              "  <thead>\n",
              "    <tr style=\"text-align: right;\">\n",
              "      <th></th>\n",
              "      <th>headline</th>\n",
              "      <th>title</th>\n",
              "      <th>text</th>\n",
              "    </tr>\n",
              "  </thead>\n",
              "  <tbody>\n",
              "    <tr>\n",
              "      <th>0</th>\n",
              "      <td>Keep related supplies in the same area., Make ...</td>\n",
              "      <td>How to Be an Organized Artist1</td>\n",
              "      <td>If you're a photographer, keep all the necessa...</td>\n",
              "    </tr>\n",
              "    <tr>\n",
              "      <th>1</th>\n",
              "      <td>Create a sketch in the NeoPopRealist manner of...</td>\n",
              "      <td>How to Create a Neopoprealist Art Work</td>\n",
              "      <td>See the image for how this drawing develops st...</td>\n",
              "    </tr>\n",
              "    <tr>\n",
              "      <th>2</th>\n",
              "      <td>Get a bachelor’s degree., Enroll in a studio-b...</td>\n",
              "      <td>How to Be a Visual Effects Artist1</td>\n",
              "      <td>It is possible to become a VFX artist without ...</td>\n",
              "    </tr>\n",
              "    <tr>\n",
              "      <th>3</th>\n",
              "      <td>Start with some experience or interest in art....</td>\n",
              "      <td>How to Become an Art Investor</td>\n",
              "      <td>The best art investors do their research on th...</td>\n",
              "    </tr>\n",
              "    <tr>\n",
              "      <th>4</th>\n",
              "      <td>Keep your reference materials, sketches, artic...</td>\n",
              "      <td>How to Be an Organized Artist2</td>\n",
              "      <td>As you start planning for a project or work, y...</td>\n",
              "    </tr>\n",
              "    <tr>\n",
              "      <th>...</th>\n",
              "      <td>...</td>\n",
              "      <td>...</td>\n",
              "      <td>...</td>\n",
              "    </tr>\n",
              "    <tr>\n",
              "      <th>215360</th>\n",
              "      <td>Consider changing the spelling of your name., ...</td>\n",
              "      <td>How to Pick a Stage Name3</td>\n",
              "      <td>If you have a name that you like, you might fi...</td>\n",
              "    </tr>\n",
              "    <tr>\n",
              "      <th>215361</th>\n",
              "      <td>Try out your name., Don’t legally change your ...</td>\n",
              "      <td>How to Pick a Stage Name4</td>\n",
              "      <td>Your name might sound great to you when you sa...</td>\n",
              "    </tr>\n",
              "    <tr>\n",
              "      <th>215362</th>\n",
              "      <td>Understand the process of relief printing., Ex...</td>\n",
              "      <td>How to Identify Prints1</td>\n",
              "      <td>Relief printing is the oldest and most traditi...</td>\n",
              "    </tr>\n",
              "    <tr>\n",
              "      <th>215363</th>\n",
              "      <td>Understand the process of intaglio printing., ...</td>\n",
              "      <td>How to Identify Prints2</td>\n",
              "      <td>Intaglio is Italian for \"incis­ing,\" and corre...</td>\n",
              "    </tr>\n",
              "    <tr>\n",
              "      <th>215364</th>\n",
              "      <td>Understand the different varieties of lithogra...</td>\n",
              "      <td>How to Identify Prints3</td>\n",
              "      <td>Lithography is a big term often used to refer ...</td>\n",
              "    </tr>\n",
              "  </tbody>\n",
              "</table>\n",
              "<p>209115 rows × 3 columns</p>\n",
              "</div>\n",
              "    <div class=\"colab-df-buttons\">\n",
              "\n",
              "  <div class=\"colab-df-container\">\n",
              "    <button class=\"colab-df-convert\" onclick=\"convertToInteractive('df-4f156c72-809e-4c56-b99e-1b52393aa6ff')\"\n",
              "            title=\"Convert this dataframe to an interactive table.\"\n",
              "            style=\"display:none;\">\n",
              "\n",
              "  <svg xmlns=\"http://www.w3.org/2000/svg\" height=\"24px\" viewBox=\"0 -960 960 960\">\n",
              "    <path d=\"M120-120v-720h720v720H120Zm60-500h600v-160H180v160Zm220 220h160v-160H400v160Zm0 220h160v-160H400v160ZM180-400h160v-160H180v160Zm440 0h160v-160H620v160ZM180-180h160v-160H180v160Zm440 0h160v-160H620v160Z\"/>\n",
              "  </svg>\n",
              "    </button>\n",
              "\n",
              "  <style>\n",
              "    .colab-df-container {\n",
              "      display:flex;\n",
              "      gap: 12px;\n",
              "    }\n",
              "\n",
              "    .colab-df-convert {\n",
              "      background-color: #E8F0FE;\n",
              "      border: none;\n",
              "      border-radius: 50%;\n",
              "      cursor: pointer;\n",
              "      display: none;\n",
              "      fill: #1967D2;\n",
              "      height: 32px;\n",
              "      padding: 0 0 0 0;\n",
              "      width: 32px;\n",
              "    }\n",
              "\n",
              "    .colab-df-convert:hover {\n",
              "      background-color: #E2EBFA;\n",
              "      box-shadow: 0px 1px 2px rgba(60, 64, 67, 0.3), 0px 1px 3px 1px rgba(60, 64, 67, 0.15);\n",
              "      fill: #174EA6;\n",
              "    }\n",
              "\n",
              "    .colab-df-buttons div {\n",
              "      margin-bottom: 4px;\n",
              "    }\n",
              "\n",
              "    [theme=dark] .colab-df-convert {\n",
              "      background-color: #3B4455;\n",
              "      fill: #D2E3FC;\n",
              "    }\n",
              "\n",
              "    [theme=dark] .colab-df-convert:hover {\n",
              "      background-color: #434B5C;\n",
              "      box-shadow: 0px 1px 3px 1px rgba(0, 0, 0, 0.15);\n",
              "      filter: drop-shadow(0px 1px 2px rgba(0, 0, 0, 0.3));\n",
              "      fill: #FFFFFF;\n",
              "    }\n",
              "  </style>\n",
              "\n",
              "    <script>\n",
              "      const buttonEl =\n",
              "        document.querySelector('#df-4f156c72-809e-4c56-b99e-1b52393aa6ff button.colab-df-convert');\n",
              "      buttonEl.style.display =\n",
              "        google.colab.kernel.accessAllowed ? 'block' : 'none';\n",
              "\n",
              "      async function convertToInteractive(key) {\n",
              "        const element = document.querySelector('#df-4f156c72-809e-4c56-b99e-1b52393aa6ff');\n",
              "        const dataTable =\n",
              "          await google.colab.kernel.invokeFunction('convertToInteractive',\n",
              "                                                    [key], {});\n",
              "        if (!dataTable) return;\n",
              "\n",
              "        const docLinkHtml = 'Like what you see? Visit the ' +\n",
              "          '<a target=\"_blank\" href=https://colab.research.google.com/notebooks/data_table.ipynb>data table notebook</a>'\n",
              "          + ' to learn more about interactive tables.';\n",
              "        element.innerHTML = '';\n",
              "        dataTable['output_type'] = 'display_data';\n",
              "        await google.colab.output.renderOutput(dataTable, element);\n",
              "        const docLink = document.createElement('div');\n",
              "        docLink.innerHTML = docLinkHtml;\n",
              "        element.appendChild(docLink);\n",
              "      }\n",
              "    </script>\n",
              "  </div>\n",
              "\n",
              "\n",
              "<div id=\"df-4550c5eb-3c13-4d99-9cc5-f2b002704f5b\">\n",
              "  <button class=\"colab-df-quickchart\" onclick=\"quickchart('df-4550c5eb-3c13-4d99-9cc5-f2b002704f5b')\"\n",
              "            title=\"Suggest charts\"\n",
              "            style=\"display:none;\">\n",
              "\n",
              "<svg xmlns=\"http://www.w3.org/2000/svg\" height=\"24px\"viewBox=\"0 0 24 24\"\n",
              "     width=\"24px\">\n",
              "    <g>\n",
              "        <path d=\"M19 3H5c-1.1 0-2 .9-2 2v14c0 1.1.9 2 2 2h14c1.1 0 2-.9 2-2V5c0-1.1-.9-2-2-2zM9 17H7v-7h2v7zm4 0h-2V7h2v10zm4 0h-2v-4h2v4z\"/>\n",
              "    </g>\n",
              "</svg>\n",
              "  </button>\n",
              "\n",
              "<style>\n",
              "  .colab-df-quickchart {\n",
              "      --bg-color: #E8F0FE;\n",
              "      --fill-color: #1967D2;\n",
              "      --hover-bg-color: #E2EBFA;\n",
              "      --hover-fill-color: #174EA6;\n",
              "      --disabled-fill-color: #AAA;\n",
              "      --disabled-bg-color: #DDD;\n",
              "  }\n",
              "\n",
              "  [theme=dark] .colab-df-quickchart {\n",
              "      --bg-color: #3B4455;\n",
              "      --fill-color: #D2E3FC;\n",
              "      --hover-bg-color: #434B5C;\n",
              "      --hover-fill-color: #FFFFFF;\n",
              "      --disabled-bg-color: #3B4455;\n",
              "      --disabled-fill-color: #666;\n",
              "  }\n",
              "\n",
              "  .colab-df-quickchart {\n",
              "    background-color: var(--bg-color);\n",
              "    border: none;\n",
              "    border-radius: 50%;\n",
              "    cursor: pointer;\n",
              "    display: none;\n",
              "    fill: var(--fill-color);\n",
              "    height: 32px;\n",
              "    padding: 0;\n",
              "    width: 32px;\n",
              "  }\n",
              "\n",
              "  .colab-df-quickchart:hover {\n",
              "    background-color: var(--hover-bg-color);\n",
              "    box-shadow: 0 1px 2px rgba(60, 64, 67, 0.3), 0 1px 3px 1px rgba(60, 64, 67, 0.15);\n",
              "    fill: var(--button-hover-fill-color);\n",
              "  }\n",
              "\n",
              "  .colab-df-quickchart-complete:disabled,\n",
              "  .colab-df-quickchart-complete:disabled:hover {\n",
              "    background-color: var(--disabled-bg-color);\n",
              "    fill: var(--disabled-fill-color);\n",
              "    box-shadow: none;\n",
              "  }\n",
              "\n",
              "  .colab-df-spinner {\n",
              "    border: 2px solid var(--fill-color);\n",
              "    border-color: transparent;\n",
              "    border-bottom-color: var(--fill-color);\n",
              "    animation:\n",
              "      spin 1s steps(1) infinite;\n",
              "  }\n",
              "\n",
              "  @keyframes spin {\n",
              "    0% {\n",
              "      border-color: transparent;\n",
              "      border-bottom-color: var(--fill-color);\n",
              "      border-left-color: var(--fill-color);\n",
              "    }\n",
              "    20% {\n",
              "      border-color: transparent;\n",
              "      border-left-color: var(--fill-color);\n",
              "      border-top-color: var(--fill-color);\n",
              "    }\n",
              "    30% {\n",
              "      border-color: transparent;\n",
              "      border-left-color: var(--fill-color);\n",
              "      border-top-color: var(--fill-color);\n",
              "      border-right-color: var(--fill-color);\n",
              "    }\n",
              "    40% {\n",
              "      border-color: transparent;\n",
              "      border-right-color: var(--fill-color);\n",
              "      border-top-color: var(--fill-color);\n",
              "    }\n",
              "    60% {\n",
              "      border-color: transparent;\n",
              "      border-right-color: var(--fill-color);\n",
              "    }\n",
              "    80% {\n",
              "      border-color: transparent;\n",
              "      border-right-color: var(--fill-color);\n",
              "      border-bottom-color: var(--fill-color);\n",
              "    }\n",
              "    90% {\n",
              "      border-color: transparent;\n",
              "      border-bottom-color: var(--fill-color);\n",
              "    }\n",
              "  }\n",
              "</style>\n",
              "\n",
              "  <script>\n",
              "    async function quickchart(key) {\n",
              "      const quickchartButtonEl =\n",
              "        document.querySelector('#' + key + ' button');\n",
              "      quickchartButtonEl.disabled = true;  // To prevent multiple clicks.\n",
              "      quickchartButtonEl.classList.add('colab-df-spinner');\n",
              "      try {\n",
              "        const charts = await google.colab.kernel.invokeFunction(\n",
              "            'suggestCharts', [key], {});\n",
              "      } catch (error) {\n",
              "        console.error('Error during call to suggestCharts:', error);\n",
              "      }\n",
              "      quickchartButtonEl.classList.remove('colab-df-spinner');\n",
              "      quickchartButtonEl.classList.add('colab-df-quickchart-complete');\n",
              "    }\n",
              "    (() => {\n",
              "      let quickchartButtonEl =\n",
              "        document.querySelector('#df-4550c5eb-3c13-4d99-9cc5-f2b002704f5b button');\n",
              "      quickchartButtonEl.style.display =\n",
              "        google.colab.kernel.accessAllowed ? 'block' : 'none';\n",
              "    })();\n",
              "  </script>\n",
              "</div>\n",
              "    </div>\n",
              "  </div>\n"
            ],
            "application/vnd.google.colaboratory.intrinsic+json": {
              "type": "dataframe",
              "variable_name": "df"
            }
          },
          "metadata": {},
          "execution_count": 8
        }
      ],
      "source": [
        "df"
      ]
    },
    {
      "cell_type": "code",
      "execution_count": 9,
      "metadata": {
        "id": "smqXBGEtee-3"
      },
      "outputs": [],
      "source": [
        "# Set of stopwords\n",
        "english_stopwords = set(stopwords.words('english'))\n",
        "\n",
        "def clean_text_input(input_text, mode):\n",
        "    modified_text = input_text.lower()\n",
        "    modified_text = BeautifulSoup(modified_text, \"lxml\").get_text()\n",
        "    modified_text = re.sub(r'\\([^)]*\\)', '', modified_text)\n",
        "    modified_text = modified_text.replace('\"', '')\n",
        "    modified_text = ' '.join([contraction_mapping.get(word, word) for word in modified_text.split()])\n",
        "    modified_text = re.sub(r\"'s\\b\", \"\", modified_text)\n",
        "    modified_text = re.sub(\"[^a-zA-Z]\", \" \", modified_text)\n",
        "    modified_text = re.sub('[m]{2,}', 'mm', modified_text)\n",
        "\n",
        "    if mode == 0:\n",
        "        modified_text = re.sub(r'\\.', ' . ', modified_text)\n",
        "        words_list = [word for word in modified_text.split() if word not in english_stopwords]\n",
        "    else:\n",
        "        words_list = modified_text.split()\n",
        "\n",
        "    # Filter out single-character words\n",
        "    longer_words = [word for word in words_list if len(word) > 1]\n",
        "    return \" \".join(longer_words).strip()\n"
      ]
    },
    {
      "cell_type": "code",
      "execution_count": 10,
      "metadata": {
        "id": "WktFRr81eg4j"
      },
      "outputs": [],
      "source": [
        "# Flat contraction mapping\n",
        "contraction_mapping = {\n",
        "    \"I'd\": \"I would\", \"I'd've\": \"I would have\", \"I'll\": \"I will\", \"I'll've\": \"I will have\",\n",
        "    \"I'm\": \"I am\", \"I've\": \"I have\",\n",
        "    \"you'd\": \"you would\", \"you'd've\": \"you would have\", \"you'll\": \"you will\",\n",
        "    \"you'll've\": \"you will have\", \"you're\": \"you are\", \"you've\": \"you have\",\n",
        "    \"he'd\": \"he would\", \"he'll\": \"he will\", \"he's\": \"he is\",\n",
        "    \"she'd\": \"she would\", \"she'd've\": \"she would have\", \"she'll\": \"she will\",\n",
        "    \"she'll've\": \"she will have\", \"she's\": \"she is\",\n",
        "    \"it'd\": \"it would\", \"it'd've\": \"it would have\", \"it'll\": \"it will\",\n",
        "    \"it'll've\": \"it will have\", \"it's\": \"it is\",\n",
        "    \"we'd\": \"we would\", \"we'd've\": \"we would have\", \"we'll\": \"we will\",\n",
        "    \"we'll've\": \"we will have\", \"we're\": \"we are\", \"we've\": \"we have\",\n",
        "    \"they'd\": \"they would\", \"they'd've\": \"they would have\", \"they'll\": \"they will\",\n",
        "    \"they'll've\": \"they will have\", \"they're\": \"they are\", \"they've\": \"they have\",\n",
        "    \"aren't\": \"are not\", \"can't\": \"cannot\", \"couldn't\": \"could not\", \"didn't\": \"did not\",\n",
        "    \"doesn't\": \"does not\", \"don't\": \"do not\", \"hadn't\": \"had not\", \"hasn't\": \"has not\",\n",
        "    \"haven't\": \"have not\", \"isn't\": \"is not\", \"mustn't\": \"must not\", \"shan't\": \"shall not\",\n",
        "    \"shouldn't\": \"should not\", \"wasn't\": \"was not\", \"weren't\": \"were not\", \"won't\": \"will not\",\n",
        "    \"wouldn't\": \"would not\", \"'cause\": \"because\", \"o'clock\": \"of the clock\", \"ma'am\": \"madam\", \"let's\": \"let us\"\n",
        "}\n"
      ]
    },
    {
      "cell_type": "code",
      "execution_count": 11,
      "metadata": {
        "id": "8r4sAn9MeitH"
      },
      "outputs": [],
      "source": [
        "cleaned_texts_list = []\n",
        "for t in df['text']:\n",
        "    cleaned_texts_list.append(clean_text_input(t, 0))"
      ]
    },
    {
      "cell_type": "code",
      "execution_count": 12,
      "metadata": {
        "id": "XYypqoYGekJa"
      },
      "outputs": [],
      "source": [
        "#call the function\n",
        "clean_summary = []\n",
        "for t in df['headline']:\n",
        "    clean_summary.append(clean_text_input(t,0))"
      ]
    },
    {
      "cell_type": "code",
      "execution_count": 13,
      "metadata": {
        "id": "yjbNXqKgelhG"
      },
      "outputs": [],
      "source": [
        "df['text']=cleaned_texts_list\n",
        "df['headline']=clean_summary\n",
        "\n",
        "df.replace('', np.nan, inplace=True)\n",
        "df.dropna(axis=0,inplace=True)"
      ]
    },
    {
      "cell_type": "markdown",
      "metadata": {
        "id": "sD6BTcGserQS"
      },
      "source": [
        "Analyzing the sequence distribution"
      ]
    },
    {
      "cell_type": "code",
      "execution_count": 14,
      "metadata": {
        "colab": {
          "base_uri": "https://localhost:8080/",
          "height": 602
        },
        "id": "K3ph13qgenFe",
        "outputId": "97849ea2-2ad2-49cb-ef1c-18879637bef8"
      },
      "outputs": [
        {
          "output_type": "display_data",
          "data": {
            "text/plain": [
              "<Figure size 1200x600 with 2 Axes>"
            ],
            "image/png": "[encoded data removed]"
          },
          "metadata": {}
        }
      ],
      "source": [
        "import pandas as pd\n",
        "import matplotlib.pyplot as plt\n",
        "\n",
        "# Assuming your DataFrame 'df' and list calculations are correct\n",
        "text_word_count = [len(i.split()) for i in df['text']]\n",
        "headline_word_count = [len(j.split()) for j in df['headline']]\n",
        "length_df = pd.DataFrame({'text': text_word_count, 'headline': headline_word_count})\n",
        "\n",
        "fig, axes = plt.subplots(nrows=1, ncols=2, figsize=(12, 6))\n",
        "length_df['text'].hist(bins=30, range=[0, 1000], alpha=0.75, ax=axes[0])\n",
        "length_df['headline'].hist(bins=30, range=[0, 1000], alpha=0.75, ax=axes[1])\n",
        "\n",
        "axes[0].set_title('Text Word Count')\n",
        "axes[1].set_title('Headline Word Count')\n",
        "axes[0].set_xlabel('Word Count')\n",
        "axes[0].set_ylabel('Frequency')\n",
        "axes[1].set_xlabel('Word Count')\n",
        "\n",
        "plt.suptitle('Word Count Distribution in Text and Headlines')\n",
        "plt.show()\n"
      ]
    },
    {
      "cell_type": "code",
      "execution_count": 15,
      "metadata": {
        "id": "becxtmAFewPn"
      },
      "outputs": [],
      "source": [
        "# From the graph\n",
        "# We can fix maximum length of text = 150 since most of the reviews have a length of 150 and maximum headline length of 50, since maximum headlines are of size 50\n",
        "\n",
        "max_len_text= 150\n",
        "max_len_headline=50"
      ]
    },
    {
      "cell_type": "code",
      "execution_count": 16,
      "metadata": {
        "colab": {
          "base_uri": "https://localhost:8080/"
        },
        "id": "9fHaefdFezFu",
        "outputId": "99ddae09-b354-45b3-b56f-0724e1b20b74"
      },
      "outputs": [
        {
          "output_type": "stream",
          "name": "stdout",
          "text": [
            "0.48348309491289865\n"
          ]
        }
      ],
      "source": [
        "cnt=0\n",
        "for i in df['text']:\n",
        "    if(len(i.split())<=150):\n",
        "        cnt=cnt+1\n",
        "print(cnt/len(df['text']))"
      ]
    },
    {
      "cell_type": "markdown",
      "metadata": {
        "id": "mKc3wuxGe3GN"
      },
      "source": [
        "Selecting text and headlines below the maximum lengths"
      ]
    },
    {
      "cell_type": "code",
      "execution_count": 17,
      "metadata": {
        "id": "QVwgzEMIe0YY"
      },
      "outputs": [],
      "source": [
        "text1 =np.array(df['text'])\n",
        "headline1=np.array(df['headline'])\n",
        "\n",
        "short_text=[]\n",
        "short_summary=[]\n",
        "\n",
        "for i in range(len(text1)):\n",
        "    if(len(headline1[i].split())<=50 and len(text1[i].split())<=150):\n",
        "        short_text.append(text1[i])\n",
        "        short_summary.append(headline1[i])\n",
        "\n",
        "df=pd.DataFrame({'text':short_text,'summary':short_summary})"
      ]
    },
    {
      "cell_type": "code",
      "execution_count": 18,
      "metadata": {
        "id": "dvcB2AFJe5nC"
      },
      "outputs": [],
      "source": [
        "# Validating the lengths\n",
        "\n",
        "text1 =np.array(df['text'])\n",
        "headline1=np.array(df['summary'])\n",
        "\n",
        "\n",
        "for i in range(len(text1)):\n",
        "    if(len(headline1[i].split())>=150):\n",
        "      print(i)"
      ]
    },
    {
      "cell_type": "code",
      "execution_count": 19,
      "metadata": {
        "colab": {
          "base_uri": "https://localhost:8080/"
        },
        "id": "tYcH03qLe6sp",
        "outputId": "3e7ea19c-6d7f-4691-bc07-e33d2cdb1799"
      },
      "outputs": [
        {
          "output_type": "stream",
          "name": "stdout",
          "text": [
            "guy like every facebook status update instagram picture post better yet frequently comment posts sign wants interact may indicate likes look see comments people posts well comments frequently may reveal avid social media user however rarely likes comments posts sign might feelings publicly comments one photos posts respond eager start conversation way may reveal likes least enjoys messaging example may say great photo could respond saying vancouver last week beautiful city guy met starts liking commenting old photos sig interested means spent time looking back old photos probably wants know better enjoys looking pictures guy likes want connect follow variety different social media platforms example may add facebook snapchat start following twitter instagram adding number social media sites likely sign wants look posts photos selfies attempt get know better\n",
            "see interacts posts reply comments notice comments old pictures posts check see added multiple social media platforms\n"
          ]
        }
      ],
      "source": [
        "print(df['text'][50],df['summary'][50],sep='\\n')"
      ]
    },
    {
      "cell_type": "markdown",
      "metadata": {
        "id": "9osSaQmJe-s9"
      },
      "source": [
        "**Splitting data into train, test  --  70 - 30**"
      ]
    },
    {
      "cell_type": "code",
      "execution_count": 24,
      "metadata": {
        "id": "Xb5TVd5He8dA"
      },
      "outputs": [],
      "source": [
        "from sklearn.model_selection import train_test_split\n",
        "x_train,x_test,y_train,y_test=train_test_split(df['text'],df['summary'],test_size=0.3,random_state=0,shuffle=True)"
      ]
    },
    {
      "cell_type": "code",
      "execution_count": 25,
      "metadata": {
        "colab": {
          "base_uri": "https://localhost:8080/"
        },
        "id": "LYFhEegofAOE",
        "outputId": "af983236-d390-4c5d-e497-d46b47c3c726"
      },
      "outputs": [
        {
          "output_type": "stream",
          "name": "stdout",
          "text": [
            "59672\n",
            "25574\n"
          ]
        }
      ],
      "source": [
        "print(len(x_train))\n",
        "print(len(x_test))"
      ]
    },
    {
      "cell_type": "markdown",
      "metadata": {
        "id": "KsnA_isBfCEH"
      },
      "source": [
        "Language Translation Model"
      ]
    },
    {
      "cell_type": "code",
      "execution_count": 26,
      "metadata": {
        "id": "x3s-nOM9fBVy"
      },
      "outputs": [],
      "source": [
        "from __future__ import unicode_literals, print_function, division\n",
        "from io import open\n",
        "import unicodedata\n",
        "import string\n",
        "import re\n",
        "import random\n",
        "\n",
        "import torch\n",
        "import torch.nn as nn\n",
        "from torch import optim\n",
        "import torch.nn.functional as F\n",
        "\n",
        "device = torch.device(\"cuda\" if torch.cuda.is_available() else \"cpu\")"
      ]
    },
    {
      "cell_type": "code",
      "execution_count": 27,
      "metadata": {
        "id": "4FUR67hXfILP"
      },
      "outputs": [],
      "source": [
        "SOS_token = 0\n",
        "EOS_token = 1\n",
        "\n",
        "class Lang:\n",
        "    def __init__(self, name):\n",
        "        self.name = name\n",
        "        self.word2index = {}\n",
        "        self.index2word = {SOS_token: \"SOS\", EOS_token: \"EOS\"}\n",
        "        self.word2count = {}\n",
        "        self.n_words = 2  # Initially include SOS and EOS\n",
        "\n",
        "    def addSentence(self, sentence):\n",
        "        words = sentence.split()\n",
        "        for word in words:\n",
        "            self.addWord(word)\n",
        "\n",
        "    def addWord(self, word):\n",
        "        if word not in self.word2index:\n",
        "            self.word2index[word] = self.n_words\n",
        "            self.index2word[self.n_words] = word\n",
        "            self.word2count[word] = 1\n",
        "            self.n_words += 1\n",
        "        elif word in self.word2count:\n",
        "            self.word2count[word] += 1\n"
      ]
    },
    {
      "cell_type": "code",
      "execution_count": 28,
      "metadata": {
        "id": "BXc__27yfKZk"
      },
      "outputs": [],
      "source": [
        "def readLangs(text, summary, reverse=False):\n",
        "    print(\"Reading lines...\")\n",
        "\n",
        "    # Create arrays from text and summary\n",
        "    text_data = np.array(text)\n",
        "    summary_data = np.array(summary)\n",
        "\n",
        "    # Formulate pairs of text and summary\n",
        "    pairs = [[text_data[i], summary_data[i]] for i in range(len(text_data))]\n",
        "\n",
        "    # Optionally reverse pairs and adjust Lang instances accordingly\n",
        "    if reverse:\n",
        "        pairs = [pair[::-1] for pair in pairs]  # Reverse each pair\n",
        "        input_lang = Lang(summary)\n",
        "        output_lang = Lang(text)\n",
        "    else:\n",
        "        input_lang = Lang(text)\n",
        "        output_lang = Lang(summary)\n",
        "\n",
        "    return input_lang, output_lang, pairs\n"
      ]
    },
    {
      "cell_type": "code",
      "execution_count": 29,
      "metadata": {
        "id": "sNkG1MnOfMY6"
      },
      "outputs": [],
      "source": [
        "def prepareData(lang1, lang2, reverse=False):\n",
        "    input_lang, output_lang, pairs = readLangs(lang1, lang2, reverse)\n",
        "    total_pairs = len(pairs)\n",
        "    print(f\"Read {total_pairs} sentence pairs\")\n",
        "    print(\"Counting words...\")\n",
        "\n",
        "    for pair in pairs:\n",
        "        input_text, output_text = pair[0], pair[1]\n",
        "        input_lang.addSentence(input_text)\n",
        "        output_lang.addSentence(output_text)\n",
        "\n",
        "    print(\"Counted words:\")\n",
        "    print(f\"{input_lang.name}: {input_lang.n_words} words\")\n",
        "    print(f\"{output_lang.name}: {output_lang.n_words} words\")\n",
        "\n",
        "    return input_lang, output_lang, pairs\n"
      ]
    },
    {
      "cell_type": "code",
      "execution_count": 30,
      "metadata": {
        "colab": {
          "base_uri": "https://localhost:8080/"
        },
        "id": "AI95WhJdfN-D",
        "outputId": "cdb79343-61f6-48c4-8fd4-99b62ff9cfe9"
      },
      "outputs": [
        {
          "output_type": "stream",
          "name": "stdout",
          "text": [
            "Reading lines...\n",
            "Read 59672 sentence pairs\n",
            "Counting words...\n",
            "Counted words:\n",
            "26413    mental health professional trained adhd issues...\n",
            "5438     many reasons get certified cpr important ones ...\n",
            "63178    best flavor want brisket known packer cut bris...\n",
            "52708    cooked remove heat drain fat set aside using s...\n",
            "42015    locate app ios device tap app logo picture mee...\n",
            "                               ...                        \n",
            "21243    xbox costs roughly accessories playstation cos...\n",
            "45891    drugs good reducing pain stiffness psoriatic a...\n",
            "42613    method help copy photos another ios device iph...\n",
            "43567    use link type url web browser sure include dat...\n",
            "68268    pour equal amounts vinegar salt lemon juice mi...\n",
            "Name: text, Length: 59672, dtype: object: 60012 words\n",
            "26413    schedule appointment mental health professiona...\n",
            "5438     identify reasons get certified prepare questio...\n",
            "63178    select beef brisket trim brisket mix seasoning...\n",
            "52708    brown beef large skillet whisk flour milk add ...\n",
            "42015    launch meerkat log twitter tap magnifying glas...\n",
            "                               ...                        \n",
            "21243    decide budget games play friends understand ty...\n",
            "45891    consider taking non steroidal anti inflammator...\n",
            "42613    enable airdrop receiving receiving iphone open...\n",
            "43567    go https help lyft com hc en us requests new t...\n",
            "68268    make vinegar solution dip clean soft cloth sol...\n",
            "Name: summary, Length: 59672, dtype: object: 35106 words\n",
            "['rinse soap water leave air dry hours fold toilet paper half form double layer two pieces toilet paper roll pieces toilet paper baking soda leaks twist ends help place toilet paper baking soda top bottle keep handy beside friend hold pour one quarter cup vinegar bottle shake boat put water make sail away', 'remove label wash bottle lay four squares connected toilet paper flat put one two tablespoons baking soda two connected toilet paper squares spread powder add marbles pebbles bottom bottle bottle sinks partway water push thumbtack pushpin several times cap quickly screw lid tightly quickly']\n"
          ]
        }
      ],
      "source": [
        "input_lang, output_lang, pairs = prepareData(x_train, y_train , False)\n",
        "print(random.choice(pairs))"
      ]
    },
    {
      "cell_type": "markdown",
      "metadata": {
        "id": "a7m31nE3fWqz"
      },
      "source": [
        "Deep Model"
      ]
    },
    {
      "cell_type": "code",
      "execution_count": 31,
      "metadata": {
        "id": "O5DMPIAVfY-r"
      },
      "outputs": [],
      "source": [
        "def indexesFromSentence(lang, sentence):\n",
        "    words = sentence.split(' ')\n",
        "    return [lang.word2index[word] for word in words]\n",
        "\n",
        "def tensorFromSentence(lang, sentence):\n",
        "    sentence_indexes = indexesFromSentence(lang, sentence)\n",
        "    sentence_indexes += [EOS_token]  # Append EOS token directly\n",
        "    return torch.tensor(sentence_indexes, dtype=torch.long, device=device).view(-1, 1)\n",
        "\n",
        "def tensorsFromPair(pair):\n",
        "    input_text, target_text = pair  # Unpacking pair for clarity\n",
        "    input_tensor = tensorFromSentence(input_lang, input_text)\n",
        "    target_tensor = tensorFromSentence(output_lang, target_text)\n",
        "    return input_tensor, target_tensor\n"
      ]
    },
    {
      "cell_type": "code",
      "execution_count": 33,
      "metadata": {
        "id": "oC_7am4mfaAL"
      },
      "outputs": [],
      "source": [
        "from __future__ import division, print_function, unicode_literals\n",
        "from io import open\n",
        "import random\n",
        "import re\n",
        "import string\n",
        "import unicodedata\n",
        "\n",
        "import torch\n",
        "import torch.nn as nn\n",
        "import torch.nn.functional as F\n",
        "from torch import optim\n",
        "\n",
        "# Determine if CUDA is available, and set the device accordingly\n",
        "device = torch.device(\"cuda\" if torch.cuda.is_available() else \"cpu\")\n"
      ]
    },
    {
      "cell_type": "code",
      "execution_count": 89,
      "metadata": {
        "id": "zVWgewjGfblN"
      },
      "outputs": [],
      "source": [
        "class EncoderRNN(nn.Module):\n",
        "    def __init__(self, input_size, hidden_size):\n",
        "        super(EncoderRNN, self).__init__()\n",
        "        self.hidden_size = hidden_size\n",
        "\n",
        "        self.embedding = nn.Embedding(input_size, hidden_size)\n",
        "        self.gru = nn.GRU(hidden_size, hidden_size)\n",
        "\n",
        "    def forward(self, input, hidden):\n",
        "        embedded = self.embedding(input).view(1, 1, -1)\n",
        "        output = embedded\n",
        "        output, hidden = self.gru(output, hidden)\n",
        "        return output, hidden\n",
        "\n",
        "    def initHidden(self):\n",
        "        return torch.zeros(1, 1, self.hidden_size, device=device)"
      ]
    },
    {
      "cell_type": "code",
      "execution_count": 90,
      "metadata": {
        "id": "-CD6w3XQfloq"
      },
      "outputs": [],
      "source": [
        "class DecoderRNN(nn.Module):\n",
        "    def __init__(self, hidden_size, output_size):\n",
        "        super().__init__()  # Simplified super() call\n",
        "        self.hidden_size = hidden_size\n",
        "\n",
        "        # Layer definitions\n",
        "        self.embedding_layer = nn.Embedding(num_embeddings=output_size, embedding_dim=hidden_size)\n",
        "        self.gru_layer = nn.GRU(input_size=hidden_size, hidden_size=hidden_size)\n",
        "        self.output_layer = nn.Linear(in_features=hidden_size, out_features=output_size)\n",
        "        self.log_softmax = nn.LogSoftmax(dim=1)\n",
        "\n",
        "    def forward(self, input_tensor, hidden_state):\n",
        "        # Embedding and activation\n",
        "        embedded = self.embedding_layer(input_tensor).view(1, 1, -1)\n",
        "        activated_output = F.relu(embedded)\n",
        "        # GRU processing\n",
        "        output, hidden_state = self.gru_layer(activated_output, hidden_state)\n",
        "        # Output processing\n",
        "        output = self.log_softmax(self.output_layer(output[0]))\n",
        "        return output, hidden_state\n",
        "\n",
        "    def initHidden(self):\n",
        "        # Initializes and returns a new hidden state\n",
        "        return torch.zeros(1, 1, self.hidden_size, device=device)\n"
      ]
    },
    {
      "cell_type": "code",
      "execution_count": 36,
      "metadata": {
        "id": "4jLJEQpPfnV4"
      },
      "outputs": [],
      "source": [
        "MAX_LENGTH = 150"
      ]
    },
    {
      "cell_type": "code",
      "execution_count": 64,
      "metadata": {
        "id": "_BgSwYNNfpWH"
      },
      "outputs": [],
      "source": [
        "class AttnDecoderRNN(nn.Module):\n",
        "    def __init__(self, hidden_size, output_size, dropout_p=0.1, max_length=MAX_LENGTH):\n",
        "        super().__init__()  # Simplified call to super\n",
        "        self.hidden_size = hidden_size\n",
        "        self.output_size = output_size\n",
        "        self.dropout_p = dropout_p\n",
        "        self.max_length = max_length\n",
        "\n",
        "        # Layer definitions\n",
        "        self.embedding_layer = nn.Embedding(num_embeddings=output_size, embedding_dim=hidden_size)\n",
        "        self.attention_layer = nn.Linear(in_features=hidden_size * 2, out_features=max_length)\n",
        "        self.combined_attention_layer = nn.Linear(in_features=hidden_size * 2, out_features=hidden_size)\n",
        "        self.dropout_layer = nn.Dropout(dropout_p)\n",
        "        self.gru_layer = nn.GRU(input_size=hidden_size, hidden_size=hidden_size)\n",
        "        self.output_layer = nn.Linear(in_features=hidden_size, out_features=output_size)\n",
        "\n",
        "    def forward(self, input_tensor, hidden_state, encoder_outputs):\n",
        "        embedded = self.embedding_layer(input_tensor).view(1, 1, -1)\n",
        "        attention_weights = F.softmax(\n",
        "            self.attention_layer(torch.cat((embedded[0], hidden_state[0]), dim=1)), dim=1)\n",
        "\n",
        "        # Ensure that encoder_outputs is prepared to match the size of attention_weights\n",
        "        if encoder_outputs.size(0) > attention_weights.size(1):\n",
        "            encoder_outputs = encoder_outputs[:attention_weights.size(1), :]\n",
        "\n",
        "        # Now perform the batch matrix multiplication\n",
        "        attention_applied = torch.bmm(attention_weights.unsqueeze(0),\n",
        "                                      encoder_outputs.unsqueeze(0))\n",
        "\n",
        "        output = torch.cat((embedded[0], attention_applied[0]), 1)\n",
        "        output = self.combined_attention_layer(output).unsqueeze(0)\n",
        "        output = F.relu(output)\n",
        "        output, hidden_state = self.gru_layer(output, hidden_state)\n",
        "\n",
        "        return output, hidden_state, attention_weights\n",
        "\n",
        "\n",
        "    def initHidden(self):\n",
        "        # Initialize hidden state with zeros\n",
        "        return torch.zeros(1, 1, self.hidden_size, device=device)\n"
      ]
    },
    {
      "cell_type": "code",
      "execution_count": 65,
      "metadata": {
        "id": "lNbZhLkwfrT3"
      },
      "outputs": [],
      "source": [
        "def indexesFromSentence(lang, sentence):\n",
        "    # Extract indexes from the sentence\n",
        "    return [lang.word2index[word] for word in sentence.split(' ')]\n",
        "\n",
        "def tensorFromSentence(lang, sentence):\n",
        "    # Create a tensor from the indexes of the sentence with EOS token appended\n",
        "    indexes = indexesFromSentence(lang, sentence)\n",
        "    indexes += [EOS_token]  # Adding EOS token at the end of the sentence\n",
        "    return torch.tensor(indexes, dtype=torch.long, device=device).reshape(-1, 1)\n",
        "\n",
        "def tensorsFromPair(pair):\n",
        "    # Generate input and target tensors from a pair of sentences\n",
        "    input_tensor = tensorFromSentence(input_lang, pair[0])\n",
        "    target_tensor = tensorFromSentence(output_lang, pair[1])\n",
        "    return input_tensor, target_tensor\n"
      ]
    },
    {
      "cell_type": "code",
      "execution_count": 66,
      "metadata": {
        "id": "rmVp28I4gx0L"
      },
      "outputs": [],
      "source": [
        "import time\n",
        "import math\n",
        "\n",
        "def asMinutes(seconds):\n",
        "    minutes = int(seconds // 60)\n",
        "    seconds = int(seconds % 60)\n",
        "    return f'{minutes}m {seconds}s'\n",
        "\n",
        "def timeSince(start_time, progress):\n",
        "    current_time = time.time()\n",
        "    elapsed_time = current_time - start_time\n",
        "    estimated_total_time = elapsed_time / progress\n",
        "    remaining_time = estimated_total_time - elapsed_time\n",
        "    return f'{asMinutes(elapsed_time)} (- {asMinutes(remaining_time)})'\n"
      ]
    },
    {
      "cell_type": "code",
      "execution_count": 67,
      "metadata": {
        "id": "PowpwxXyKTeT"
      },
      "outputs": [],
      "source": [
        "import matplotlib.pyplot as plt\n",
        "import matplotlib.ticker as ticker\n",
        "import numpy as np\n",
        "\n",
        "plt.switch_backend('agg')  # Ensuring the backend is set for non-interactive environments\n",
        "\n",
        "def showPlot(data_points):\n",
        "    plt.figure()  # Initializes a new figure\n",
        "    _, ax = plt.subplots()  # Creates a subplot and discards the figure object with _\n",
        "\n",
        "    # Configure the y-axis to place ticks at regular intervals\n",
        "    interval_locator = ticker.MultipleLocator(base=0.2)\n",
        "    ax.yaxis.set_major_locator(interval_locator)\n",
        "\n",
        "    # Plot the data points provided to the function\n",
        "    ax.plot(data_points)  # Use ax.plot for clarity in context of object-oriented approach\n"
      ]
    },
    {
      "cell_type": "code",
      "execution_count": 68,
      "metadata": {
        "id": "ne_OJj66ftIT"
      },
      "outputs": [],
      "source": [
        "teacher_forcing_ratio = 0.5\n",
        "\n",
        "def train(input_tensor, target_tensor, encoder, decoder, encoder_optimizer, decoder_optimizer, loss_function, max_length=MAX_LENGTH):\n",
        "    # Initialize hidden state for encoder\n",
        "    encoder_hidden = encoder.initHidden()\n",
        "\n",
        "    # Reset gradients\n",
        "    encoder_optimizer.zero_grad()\n",
        "    decoder_optimizer.zero_grad()\n",
        "\n",
        "    # Prepare tensor dimensions\n",
        "    input_length = input_tensor.size(0)\n",
        "    target_length = target_tensor.size(0)\n",
        "\n",
        "    # Create a zero-filled matrix for encoder outputs\n",
        "    encoder_outputs = torch.zeros(max_length, encoder.hidden_size, device=device)\n",
        "\n",
        "    total_loss = 0\n",
        "\n",
        "    # Encoding phase\n",
        "    for ei in range(input_length):\n",
        "        encoder_output, encoder_hidden = encoder(input_tensor[ei], encoder_hidden)\n",
        "        encoder_outputs[ei] = encoder_output[0, 0]\n",
        "\n",
        "    # Decoding phase\n",
        "    decoder_input = torch.tensor([[SOS_token]], device=device)\n",
        "    decoder_hidden = encoder_hidden\n",
        "\n",
        "    # Decide whether to use teacher forcing\n",
        "    apply_teacher_forcing = random.random() < teacher_forcing_ratio\n",
        "\n",
        "    if apply_teacher_forcing:\n",
        "        # Teacher forcing: next input is current target\n",
        "        for di in range(target_length):\n",
        "            decoder_output, decoder_hidden, _ = decoder(\n",
        "                decoder_input, decoder_hidden, encoder_outputs)\n",
        "            total_loss += loss_function(decoder_output, target_tensor[di])\n",
        "            decoder_input = target_tensor[di]  # Next input from target tensor\n",
        "    else:\n",
        "        # No teacher forcing: next input is decoder's own current output\n",
        "        for di in range(target_length):\n",
        "            decoder_output, decoder_hidden, _ = decoder(\n",
        "                decoder_input, decoder_hidden, encoder_outputs)\n",
        "            top_value, top_index = decoder_output.topk(1)\n",
        "            decoder_input = top_index.squeeze().detach()\n",
        "\n",
        "            total_loss += loss_function(decoder_output, target_tensor[di])\n",
        "            if decoder_input.item() == EOS_token:\n",
        "                break\n",
        "\n",
        "    # Perform backpropagation\n",
        "    total_loss.backward()\n",
        "\n",
        "    # Update weights\n",
        "    encoder_optimizer.step()\n",
        "    decoder_optimizer.step()\n",
        "\n",
        "    # Calculate average loss\n",
        "    return total_loss.item() / target_length\n"
      ]
    },
    {
      "cell_type": "code",
      "execution_count": 69,
      "metadata": {
        "id": "hkUmPPWOfuw_"
      },
      "outputs": [],
      "source": [
        "import matplotlib.pyplot as plt\n",
        "import matplotlib.ticker as ticker\n",
        "import torch.optim as optim\n",
        "import torch.nn as nn\n",
        "import random\n",
        "import time\n",
        "\n",
        "def showPlot(points, should_save=False):\n",
        "    plt.figure()\n",
        "    plt.plot(points)\n",
        "    plt.title('Training Loss Over Time')\n",
        "    plt.xlabel('Number of Iterations')\n",
        "    plt.ylabel('Loss')\n",
        "    plt.grid(True)\n",
        "    if should_save:\n",
        "        plt.savefig('training_loss_plot.png')  # Save to file if display is not supported\n",
        "    else:\n",
        "        plt.show()\n",
        "\n",
        "def trainIters(encoder, decoder, num_iterations, print_interval=100, learning_rate=0.01):\n",
        "    start_time = time.time()\n",
        "    print(\"Starting training...\")\n",
        "\n",
        "    loss_recordings = []\n",
        "    cumulative_print_loss = 0\n",
        "\n",
        "    # Initialize optimizers\n",
        "    encoder_opt = optim.SGD(encoder.parameters(), lr=learning_rate)\n",
        "    decoder_opt = optim.SGD(decoder.parameters(), lr=learning_rate)\n",
        "    loss_criterion = nn.NLLLoss()\n",
        "\n",
        "    # Training on a smaller dataset for quick checking\n",
        "    small_dataset = random.sample(pairs, min(100, len(pairs)))\n",
        "\n",
        "    for iteration in range(1, num_iterations + 1):\n",
        "        training_pair = tensorsFromPair(random.choice(small_dataset))\n",
        "        input_tensor = training_pair[0]\n",
        "        target_tensor = training_pair[1]\n",
        "\n",
        "        if input_tensor.size(0) > 150:  # Skip if input length exceeds max_length to prevent IndexError\n",
        "            continue\n",
        "\n",
        "        loss = train(input_tensor, target_tensor, encoder, decoder, encoder_opt, decoder_opt, loss_criterion)\n",
        "        cumulative_print_loss += loss\n",
        "\n",
        "        if iteration % print_interval == 0:\n",
        "            print_avg_loss = cumulative_print_loss / print_interval\n",
        "            cumulative_print_loss = 0\n",
        "            print(f'Iteration {iteration}, {iteration / num_iterations * 100:.2f}%, Avg loss: {print_avg_loss:.4f}')\n",
        "            print(f'Time elapsed: {timeSince(start_time, float(iteration) / num_iterations)}')\n",
        "            loss_recordings.append(print_avg_loss)\n",
        "\n",
        "    # Plot the losses after training\n",
        "    showPlot(loss_recordings, should_save=True)\n",
        "\n",
        "\n"
      ]
    },
    {
      "cell_type": "code",
      "execution_count": 77,
      "metadata": {
        "id": "k8AL_zkWfwRG"
      },
      "outputs": [],
      "source": [
        "def evaluate(encoder, decoder, sentence, max_length=MAX_LENGTH):\n",
        "    with torch.no_grad():\n",
        "        input_tensor = tensorFromSentence(input_lang, sentence)\n",
        "        input_length = input_tensor.size()[0]\n",
        "        encoder_hidden = encoder.initHidden()\n",
        "\n",
        "        encoder_outputs = torch.zeros(max_length, encoder.hidden_size, device=device)\n",
        "\n",
        "        for ei in range(input_length):\n",
        "            encoder_output, encoder_hidden = encoder(input_tensor[ei],\n",
        "                                                     encoder_hidden)\n",
        "            encoder_outputs[ei] += encoder_output[0, 0]\n",
        "\n",
        "        decoder_input = torch.tensor([[SOS_token]], device=device)  # SOS\n",
        "\n",
        "        decoder_hidden = encoder_hidden\n",
        "\n",
        "        decoded_words = []\n",
        "        decoder_attentions = torch.zeros(max_length, max_length)\n",
        "\n",
        "        for di in range(max_length):\n",
        "            decoder_output, decoder_hidden, decoder_attention = decoder(\n",
        "                decoder_input, decoder_hidden, encoder_outputs)\n",
        "            decoder_attentions[di] = decoder_attention.data\n",
        "            topv, topi = decoder_output.data.topk(1)\n",
        "            if topi.item() == EOS_token:\n",
        "                decoded_words.append('')\n",
        "                break\n",
        "            else:\n",
        "                decoded_words.append(output_lang.index2word[topi.item()])\n",
        "\n",
        "            decoder_input = topi.squeeze().detach()\n",
        "\n",
        "        return decoded_words, decoder_attentions[:di + 1]"
      ]
    },
    {
      "cell_type": "code",
      "execution_count": 58,
      "metadata": {
        "colab": {
          "base_uri": "https://localhost:8080/"
        },
        "id": "_E9u7A6_fx08",
        "outputId": "918dc7c4-88b2-4e84-ec25-ad77f030b9c3"
      },
      "outputs": [
        {
          "output_type": "stream",
          "name": "stdout",
          "text": [
            "Starting training...\n",
            "Iteration 10, 10.00%, Avg loss: 7.8709\n",
            "Time elapsed: 1m 3s (- 9m 28s)\n",
            "Iteration 20, 20.00%, Avg loss: 4.1618\n",
            "Time elapsed: 2m 8s (- 8m 35s)\n",
            "Iteration 30, 30.00%, Avg loss: 4.5263\n",
            "Time elapsed: 3m 12s (- 7m 28s)\n",
            "Iteration 40, 40.00%, Avg loss: 6.3402\n",
            "Time elapsed: 4m 26s (- 6m 40s)\n",
            "Iteration 50, 50.00%, Avg loss: 7.3172\n",
            "Time elapsed: 5m 44s (- 5m 44s)\n",
            "Iteration 60, 60.00%, Avg loss: 4.9811\n",
            "Time elapsed: 6m 44s (- 4m 29s)\n",
            "Iteration 70, 70.00%, Avg loss: 2.2826\n",
            "Time elapsed: 7m 41s (- 3m 17s)\n",
            "Iteration 80, 80.00%, Avg loss: 5.2249\n",
            "Time elapsed: 8m 32s (- 2m 8s)\n",
            "Iteration 90, 90.00%, Avg loss: 4.3309\n",
            "Time elapsed: 9m 17s (- 1m 1s)\n",
            "Iteration 100, 100.00%, Avg loss: 6.7799\n",
            "Time elapsed: 10m 28s (- 0m 0s)\n"
          ]
        }
      ],
      "source": [
        "# Define hidden size and initialize models for a quick training run\n",
        "hidden_size = 300\n",
        "encoder1 = EncoderRNN(input_lang.n_words, hidden_size).to(device)\n",
        "attn_decoder1 = AttnDecoderRNN(hidden_size, output_lang.n_words, dropout_p=0.1).to(device)\n",
        "\n",
        "# Execute the quick training session\n",
        "trainIters(encoder1, attn_decoder1, num_iterations=100, print_interval=10)"
      ]
    },
    {
      "cell_type": "code",
      "source": [
        "def evaluateRandomly(encoder, decoder, n=5):\n",
        "    text=list()\n",
        "    headline=list()\n",
        "    pred_headline=list()\n",
        "    for i in range(n):\n",
        "        pair = random.choice(pairs)\n",
        "\n",
        "        if(len(pair[0].split())>=150):\n",
        "          continue\n",
        "        else:\n",
        "          if(i%1000==0):\n",
        "            print(i*100/n,\"% complete\")\n",
        "\n",
        "          #print('>', pair[0])\n",
        "          text.append(pair[0])\n",
        "          #print('=', pair[1])\n",
        "          headline.append(pair[1])\n",
        "          output_words, attentions = evaluate(encoder, decoder, pair[0])\n",
        "          output_sentence = ' '.join(output_words)\n",
        "          pred_headline.append(output_sentence)\n",
        "          #print('<', output_sentence)\n",
        "          #print('')\n",
        "    return(text,headline,pred_headline)"
      ],
      "metadata": {
        "id": "YLZ7VfobxmCY"
      },
      "execution_count": 79,
      "outputs": []
    },
    {
      "cell_type": "code",
      "source": [
        "text,headline,pred_headline=evaluateRandomly(encoder1, attn_decoder1,15000)\n",
        "\n",
        "pred_df_GRU=pd.DataFrame()\n",
        "\n",
        "pred_df_GRU['text']=text\n",
        "pred_df_GRU['headline']=headline\n",
        "pred_df_GRU['pred_headline']=pred_headline"
      ],
      "metadata": {
        "colab": {
          "base_uri": "https://localhost:8080/"
        },
        "id": "xiSq40ZBxmAB",
        "outputId": "aaa28e73-2ee2-4b45-a242-90fc3ff0fd46"
      },
      "execution_count": 80,
      "outputs": [
        {
          "output_type": "stream",
          "name": "stdout",
          "text": [
            "0.0 % complete\n",
            "6.666666666666667 % complete\n",
            "13.333333333333334 % complete\n",
            "20.0 % complete\n",
            "26.666666666666668 % complete\n",
            "33.333333333333336 % complete\n",
            "40.0 % complete\n",
            "46.666666666666664 % complete\n",
            "53.333333333333336 % complete\n",
            "60.0 % complete\n",
            "66.66666666666667 % complete\n",
            "73.33333333333333 % complete\n",
            "80.0 % complete\n",
            "86.66666666666667 % complete\n",
            "93.33333333333333 % complete\n"
          ]
        }
      ]
    },
    {
      "cell_type": "code",
      "source": [
        "import pandas as pd\n",
        "import os\n",
        "from rouge import Rouge\n",
        "import nltk\n",
        "import matplotlib.pyplot as plt\n",
        "import matplotlib.ticker as ticker\n",
        "\n",
        "# Ensure nltk's punkt package is downloaded (necessary for tokenization)\n",
        "nltk.download('punkt')\n",
        "\n",
        "rouge = Rouge()\n",
        "\n",
        "def evaluateRandomly(encoder, decoder, n=5):\n",
        "    text, headline, pred_headline = [], [], []\n",
        "    for i in range(n):\n",
        "        pair = random.choice(pairs)\n",
        "        if len(pair[0].split()) < 150:\n",
        "            output_words, _ = evaluate(encoder, decoder, pair[0])\n",
        "            text.append(pair[0])\n",
        "            headline.append(pair[1])\n",
        "            pred_headline.append(' '.join(output_words))\n",
        "    return text, headline, pred_headline\n",
        "\n",
        "def calculate_rouge(src_trg, pred_trg):\n",
        "    pred_trg = pred_trg[:-6]  # assuming pred_trg ends with <eos>\n",
        "    if len(pred_trg) == 0:\n",
        "        rouge_score = 0.0\n",
        "    else:\n",
        "        scores = rouge.get_scores(pred_trg, src_trg, avg=True)\n",
        "        rouge_score = scores['rouge-1']['f']\n",
        "    return rouge_score\n",
        "\n",
        "# Define the threshold for plotting attention\n",
        "attn_plot_threshold = 0.25  # Set this to a reasonable value based on your model's typical scores\n",
        "\n",
        "def evaluateAndPrint(encoder, decoder, n=5):\n",
        "    for i in range(n):\n",
        "        pair = random.choice(pairs)\n",
        "        if len(pair[0].split()) < 150:\n",
        "            output_words, attentions = evaluate(encoder, decoder, pair[0])\n",
        "            score = calculate_rouge(pair[1], ' '.join(output_words))  # should compare against reference headline\n",
        "            if score > attn_plot_threshold:\n",
        "                plot_attention(nltk.word_tokenize(pair[0]), output_words, attentions, i)\n",
        "\n",
        "def plot_attention(sentence, predicted_sentence, attention, index):\n",
        "    plt.figure(figsize=(30,30))\n",
        "    ax = plt.gca()\n",
        "    ax.matshow(attention, cmap='bone')\n",
        "    ax.set_xticklabels([''] + ['<sos>'] + [t.lower() for t in sentence] + ['<eos>'], rotation=90)\n",
        "    ax.set_yticklabels([''] + predicted_sentence)\n",
        "    ax.xaxis.set_major_locator(ticker.MultipleLocator(3))\n",
        "    ax.yaxis.set_major_locator(ticker.MultipleLocator(3))\n",
        "    plt.show()\n",
        "\n",
        "# Use the functions above\n",
        "enc_model, dec_model = EncoderRNN(input_lang.n_words, hidden_size).to(device), AttnDecoderRNN(hidden_size, output_lang.n_words, dropout_p=0.1).to(device)\n",
        "text, headline, pred_headline = evaluateRandomly(enc_model, dec_model, 10)  # Adjusted for a smaller number for demonstration\n",
        "\n",
        "# Save predictions to CSV\n",
        "pred_df_GRU = pd.DataFrame({'text': text, 'headline': headline, 'pred_headline': pred_headline})\n",
        "pred_df_GRU.to_csv('/content/drive/MyDrive/CS521_Project/Attention_GRU_Pred.csv', sep='\\t', index=False)\n",
        "\n",
        "# Evaluate and print attentions\n",
        "evaluateAndPrint(enc_model, dec_model, 10)  # Adjusted for a smaller number for demonstration\n"
      ],
      "metadata": {
        "id": "L6_hozC76P9g"
      },
      "execution_count": null,
      "outputs": []
    }
  ],
  "metadata": {
    "colab": {
      "machine_shape": "hm",
      "provenance": []
    },
    "kernelspec": {
      "display_name": "Python 3",
      "name": "python3"
    }
  },
  "nbformat": 4,
  "nbformat_minor": 0
}